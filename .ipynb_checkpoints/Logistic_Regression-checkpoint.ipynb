{
 "cells": [
  {
   "cell_type": "code",
   "execution_count": 1,
   "metadata": {},
   "outputs": [],
   "source": [
    "import numpy as np\n",
    "import pandas as pd\n",
    "import matplotlib.pyplot as plt\n",
    "import seaborn as sb\n",
    "from sklearn.linear_model import LogisticRegression\n",
    "from sklearn.model_selection import train_test_split\n",
    "from sklearn.metrics import accuracy_score\n",
    "from sklearn.metrics import confusion_matrix\n",
    "from sklearn.metrics import f1_score,precision_score,recall_score\n",
    "from sklearn.preprocessing import OneHotEncoder\n",
    "\n",
    "\n",
    "sb.set()"
   ]
  },
  {
   "cell_type": "code",
   "execution_count": 2,
   "metadata": {},
   "outputs": [],
   "source": [
    "def train_test_split_func(X,y,test_size): # This function retunrs X_train,X_test,y_train,y_test as a list\n",
    "\n",
    "    data = list(train_test_split(X,y,test_size=test_size))\n",
    "    print(f'X_train: {data[0].shape}')\n",
    "    print(f'X_test: {data[1].shape}')\n",
    "    print(f'y_train: {data[2].shape}')\n",
    "    print(f'y_test: {data[3].shape}')\n",
    "\n",
    "    return data "
   ]
  },
  {
   "cell_type": "code",
   "execution_count": 3,
   "metadata": {},
   "outputs": [],
   "source": [
    "def logistic_regression(model,X_train,X_test,y_train,y_test):  # This function returns the y_train_predict and the y_test_predict\n",
    "    model.fit(X_train,y_train)\n",
    "    y_train_pred = model.predict(X_train)\n",
    "    y_test_pred = model.predict(X_test)\n",
    "\n",
    "    accuracy_train = model.score(X_train,y_train)\n",
    "    accuracy_test = accuracy_score(y_test,y_test_pred)\n",
    "\n",
    "    print(f'Train Accuracy: {accuracy_train}')\n",
    "    print(f\" Test Accuracy: {accuracy_test}\")\n",
    "    return y_train_pred,y_test_pred "
   ]
  },
  {
   "cell_type": "code",
   "execution_count": 4,
   "metadata": {},
   "outputs": [],
   "source": [
    "def confusion_matrix_func(y_test,y_test_pred):\n",
    "\n",
    "    sb.heatmap(confusion_matrix(y_test,y_test_pred),annot=True,fmt=\".0f\", annot_kws={\"size\": 18})\n",
    "\n",
    "    # Print the Accuracy Measures from the Confusion Matrix\n",
    "    cmTest = confusion_matrix(y_test, y_test_pred)\n",
    "    tpTest = cmTest[1][1] # True Positives \n",
    "    fpTest = cmTest[0][1] # False Positives \n",
    "    tnTest = cmTest[0][0] # True Negatives \n",
    "    fnTest = cmTest[1][0] # False Negatives \n",
    "\n",
    "    print(\"TPR Test :\\t\", (tpTest/(tpTest + fnTest)))\n",
    "    print(\"TNR Test :\\t\", (tnTest/(tnTest + fpTest)))\n",
    "    print()\n",
    "\n",
    "    print(\"FPR Test :\\t\", (fpTest/(fpTest + tnTest)))\n",
    "    print(\"FNR Test :\\t\", (fnTest/(fnTest + tpTest)))\n",
    "    print()\n",
    "\n",
    "    precision_test_rf = precision_score(y_test,y_test_pred, pos_label = 'Approved')\n",
    "    recall_test_rf = recall_score(y_test,y_test_pred, pos_label = 'Approved')\n",
    "    f1_test_rf = f1_score(y_test,y_test_pred, pos_label='Approved')\n",
    "    print(\"Precision: {0:.4f}\" .format(precision_test_rf)) \n",
    "    print(\"Recall: {0:.4f}\" .format(recall_test_rf))\n",
    "    print(\"F-score: {0:.4f}\" .format(f1_test_rf))\n"
   ]
  },
  {
   "cell_type": "code",
   "execution_count": 5,
   "metadata": {},
   "outputs": [
    {
     "data": {
      "text/html": [
       "<div>\n",
       "<style scoped>\n",
       "    .dataframe tbody tr th:only-of-type {\n",
       "        vertical-align: middle;\n",
       "    }\n",
       "\n",
       "    .dataframe tbody tr th {\n",
       "        vertical-align: top;\n",
       "    }\n",
       "\n",
       "    .dataframe thead th {\n",
       "        text-align: right;\n",
       "    }\n",
       "</style>\n",
       "<table border=\"1\" class=\"dataframe\">\n",
       "  <thead>\n",
       "    <tr style=\"text-align: right;\">\n",
       "      <th></th>\n",
       "      <th>Gender</th>\n",
       "      <th>Age</th>\n",
       "      <th>Debt</th>\n",
       "      <th>Married</th>\n",
       "      <th>BankCustomer</th>\n",
       "      <th>EducationLevel</th>\n",
       "      <th>Ethnicity</th>\n",
       "      <th>YearsEmployed</th>\n",
       "      <th>PriorDefault</th>\n",
       "      <th>Employed</th>\n",
       "      <th>CreditScore</th>\n",
       "      <th>DriversLicense</th>\n",
       "      <th>Citizen</th>\n",
       "      <th>ZipCode</th>\n",
       "      <th>Income</th>\n",
       "      <th>Approved</th>\n",
       "      <th>Approved_Status</th>\n",
       "    </tr>\n",
       "  </thead>\n",
       "  <tbody>\n",
       "    <tr>\n",
       "      <th>0</th>\n",
       "      <td>b</td>\n",
       "      <td>30.83</td>\n",
       "      <td>0.000</td>\n",
       "      <td>u</td>\n",
       "      <td>g</td>\n",
       "      <td>w</td>\n",
       "      <td>v</td>\n",
       "      <td>1.25</td>\n",
       "      <td>t</td>\n",
       "      <td>t</td>\n",
       "      <td>1</td>\n",
       "      <td>f</td>\n",
       "      <td>g</td>\n",
       "      <td>202.0</td>\n",
       "      <td>0</td>\n",
       "      <td>+</td>\n",
       "      <td>Approved</td>\n",
       "    </tr>\n",
       "    <tr>\n",
       "      <th>1</th>\n",
       "      <td>a</td>\n",
       "      <td>58.67</td>\n",
       "      <td>4.460</td>\n",
       "      <td>u</td>\n",
       "      <td>g</td>\n",
       "      <td>q</td>\n",
       "      <td>h</td>\n",
       "      <td>3.04</td>\n",
       "      <td>t</td>\n",
       "      <td>t</td>\n",
       "      <td>6</td>\n",
       "      <td>f</td>\n",
       "      <td>g</td>\n",
       "      <td>43.0</td>\n",
       "      <td>560</td>\n",
       "      <td>+</td>\n",
       "      <td>Approved</td>\n",
       "    </tr>\n",
       "    <tr>\n",
       "      <th>2</th>\n",
       "      <td>a</td>\n",
       "      <td>24.50</td>\n",
       "      <td>0.500</td>\n",
       "      <td>u</td>\n",
       "      <td>g</td>\n",
       "      <td>q</td>\n",
       "      <td>h</td>\n",
       "      <td>1.50</td>\n",
       "      <td>t</td>\n",
       "      <td>f</td>\n",
       "      <td>0</td>\n",
       "      <td>f</td>\n",
       "      <td>g</td>\n",
       "      <td>280.0</td>\n",
       "      <td>824</td>\n",
       "      <td>+</td>\n",
       "      <td>Approved</td>\n",
       "    </tr>\n",
       "    <tr>\n",
       "      <th>3</th>\n",
       "      <td>b</td>\n",
       "      <td>27.83</td>\n",
       "      <td>1.540</td>\n",
       "      <td>u</td>\n",
       "      <td>g</td>\n",
       "      <td>w</td>\n",
       "      <td>v</td>\n",
       "      <td>3.75</td>\n",
       "      <td>t</td>\n",
       "      <td>t</td>\n",
       "      <td>5</td>\n",
       "      <td>t</td>\n",
       "      <td>g</td>\n",
       "      <td>100.0</td>\n",
       "      <td>3</td>\n",
       "      <td>+</td>\n",
       "      <td>Approved</td>\n",
       "    </tr>\n",
       "    <tr>\n",
       "      <th>4</th>\n",
       "      <td>b</td>\n",
       "      <td>20.17</td>\n",
       "      <td>5.625</td>\n",
       "      <td>u</td>\n",
       "      <td>g</td>\n",
       "      <td>w</td>\n",
       "      <td>v</td>\n",
       "      <td>1.71</td>\n",
       "      <td>t</td>\n",
       "      <td>f</td>\n",
       "      <td>0</td>\n",
       "      <td>f</td>\n",
       "      <td>s</td>\n",
       "      <td>120.0</td>\n",
       "      <td>0</td>\n",
       "      <td>+</td>\n",
       "      <td>Approved</td>\n",
       "    </tr>\n",
       "  </tbody>\n",
       "</table>\n",
       "</div>"
      ],
      "text/plain": [
       "  Gender    Age   Debt Married BankCustomer EducationLevel Ethnicity  \\\n",
       "0      b  30.83  0.000       u            g              w         v   \n",
       "1      a  58.67  4.460       u            g              q         h   \n",
       "2      a  24.50  0.500       u            g              q         h   \n",
       "3      b  27.83  1.540       u            g              w         v   \n",
       "4      b  20.17  5.625       u            g              w         v   \n",
       "\n",
       "   YearsEmployed PriorDefault Employed  CreditScore DriversLicense Citizen  \\\n",
       "0           1.25            t        t            1              f       g   \n",
       "1           3.04            t        t            6              f       g   \n",
       "2           1.50            t        f            0              f       g   \n",
       "3           3.75            t        t            5              t       g   \n",
       "4           1.71            t        f            0              f       s   \n",
       "\n",
       "   ZipCode  Income Approved Approved_Status  \n",
       "0    202.0       0        +        Approved  \n",
       "1     43.0     560        +        Approved  \n",
       "2    280.0     824        +        Approved  \n",
       "3    100.0       3        +        Approved  \n",
       "4    120.0       0        +        Approved  "
      ]
     },
     "execution_count": 5,
     "metadata": {},
     "output_type": "execute_result"
    }
   ],
   "source": [
    "creditcardData = pd.read_csv('credit-approval_csv.csv')\n",
    "creditcardData.head()"
   ]
  },
  {
   "cell_type": "code",
   "execution_count": 6,
   "metadata": {},
   "outputs": [
    {
     "data": {
      "text/html": [
       "<div>\n",
       "<style scoped>\n",
       "    .dataframe tbody tr th:only-of-type {\n",
       "        vertical-align: middle;\n",
       "    }\n",
       "\n",
       "    .dataframe tbody tr th {\n",
       "        vertical-align: top;\n",
       "    }\n",
       "\n",
       "    .dataframe thead th {\n",
       "        text-align: right;\n",
       "    }\n",
       "</style>\n",
       "<table border=\"1\" class=\"dataframe\">\n",
       "  <thead>\n",
       "    <tr style=\"text-align: right;\">\n",
       "      <th></th>\n",
       "      <th>Debt</th>\n",
       "      <th>Income</th>\n",
       "      <th>YearsEmployed</th>\n",
       "      <th>CreditScore</th>\n",
       "      <th>Approved_Status</th>\n",
       "    </tr>\n",
       "  </thead>\n",
       "  <tbody>\n",
       "    <tr>\n",
       "      <th>0</th>\n",
       "      <td>0.000</td>\n",
       "      <td>0</td>\n",
       "      <td>1.25</td>\n",
       "      <td>1</td>\n",
       "      <td>Approved</td>\n",
       "    </tr>\n",
       "    <tr>\n",
       "      <th>1</th>\n",
       "      <td>4.460</td>\n",
       "      <td>560</td>\n",
       "      <td>3.04</td>\n",
       "      <td>6</td>\n",
       "      <td>Approved</td>\n",
       "    </tr>\n",
       "    <tr>\n",
       "      <th>2</th>\n",
       "      <td>0.500</td>\n",
       "      <td>824</td>\n",
       "      <td>1.50</td>\n",
       "      <td>0</td>\n",
       "      <td>Approved</td>\n",
       "    </tr>\n",
       "    <tr>\n",
       "      <th>3</th>\n",
       "      <td>1.540</td>\n",
       "      <td>3</td>\n",
       "      <td>3.75</td>\n",
       "      <td>5</td>\n",
       "      <td>Approved</td>\n",
       "    </tr>\n",
       "    <tr>\n",
       "      <th>4</th>\n",
       "      <td>5.625</td>\n",
       "      <td>0</td>\n",
       "      <td>1.71</td>\n",
       "      <td>0</td>\n",
       "      <td>Approved</td>\n",
       "    </tr>\n",
       "  </tbody>\n",
       "</table>\n",
       "</div>"
      ],
      "text/plain": [
       "    Debt  Income  YearsEmployed  CreditScore Approved_Status\n",
       "0  0.000       0           1.25            1        Approved\n",
       "1  4.460     560           3.04            6        Approved\n",
       "2  0.500     824           1.50            0        Approved\n",
       "3  1.540       3           3.75            5        Approved\n",
       "4  5.625       0           1.71            0        Approved"
      ]
     },
     "execution_count": 6,
     "metadata": {},
     "output_type": "execute_result"
    }
   ],
   "source": [
    "ccData = pd.DataFrame(creditcardData[['Debt','Income','YearsEmployed','CreditScore','Approved_Status']])\n",
    "ccData.head()"
   ]
  },
  {
   "cell_type": "code",
   "execution_count": 7,
   "metadata": {},
   "outputs": [
    {
     "name": "stdout",
     "output_type": "stream",
     "text": [
      "<class 'pandas.core.frame.DataFrame'>\n",
      "RangeIndex: 690 entries, 0 to 689\n",
      "Data columns (total 5 columns):\n",
      " #   Column           Non-Null Count  Dtype  \n",
      "---  ------           --------------  -----  \n",
      " 0   Debt             690 non-null    float64\n",
      " 1   Income           690 non-null    int64  \n",
      " 2   YearsEmployed    690 non-null    float64\n",
      " 3   CreditScore      690 non-null    int64  \n",
      " 4   Approved_Status  690 non-null    object \n",
      "dtypes: float64(2), int64(2), object(1)\n",
      "memory usage: 27.1+ KB\n"
     ]
    }
   ],
   "source": [
    "ccData.info()"
   ]
  },
  {
   "cell_type": "code",
   "execution_count": 8,
   "metadata": {},
   "outputs": [
    {
     "data": {
      "text/html": [
       "<div>\n",
       "<style scoped>\n",
       "    .dataframe tbody tr th:only-of-type {\n",
       "        vertical-align: middle;\n",
       "    }\n",
       "\n",
       "    .dataframe tbody tr th {\n",
       "        vertical-align: top;\n",
       "    }\n",
       "\n",
       "    .dataframe thead th {\n",
       "        text-align: right;\n",
       "    }\n",
       "</style>\n",
       "<table border=\"1\" class=\"dataframe\">\n",
       "  <thead>\n",
       "    <tr style=\"text-align: right;\">\n",
       "      <th></th>\n",
       "      <th>Debt</th>\n",
       "      <th>Income</th>\n",
       "      <th>YearsEmployed</th>\n",
       "      <th>CreditScore</th>\n",
       "    </tr>\n",
       "  </thead>\n",
       "  <tbody>\n",
       "    <tr>\n",
       "      <th>count</th>\n",
       "      <td>690.000000</td>\n",
       "      <td>690.000000</td>\n",
       "      <td>690.000000</td>\n",
       "      <td>690.00000</td>\n",
       "    </tr>\n",
       "    <tr>\n",
       "      <th>mean</th>\n",
       "      <td>4.758725</td>\n",
       "      <td>1017.385507</td>\n",
       "      <td>2.223406</td>\n",
       "      <td>2.40000</td>\n",
       "    </tr>\n",
       "    <tr>\n",
       "      <th>std</th>\n",
       "      <td>4.978163</td>\n",
       "      <td>5210.102598</td>\n",
       "      <td>3.346513</td>\n",
       "      <td>4.86294</td>\n",
       "    </tr>\n",
       "    <tr>\n",
       "      <th>min</th>\n",
       "      <td>0.000000</td>\n",
       "      <td>0.000000</td>\n",
       "      <td>0.000000</td>\n",
       "      <td>0.00000</td>\n",
       "    </tr>\n",
       "    <tr>\n",
       "      <th>25%</th>\n",
       "      <td>1.000000</td>\n",
       "      <td>0.000000</td>\n",
       "      <td>0.165000</td>\n",
       "      <td>0.00000</td>\n",
       "    </tr>\n",
       "    <tr>\n",
       "      <th>50%</th>\n",
       "      <td>2.750000</td>\n",
       "      <td>5.000000</td>\n",
       "      <td>1.000000</td>\n",
       "      <td>0.00000</td>\n",
       "    </tr>\n",
       "    <tr>\n",
       "      <th>75%</th>\n",
       "      <td>7.207500</td>\n",
       "      <td>395.500000</td>\n",
       "      <td>2.625000</td>\n",
       "      <td>3.00000</td>\n",
       "    </tr>\n",
       "    <tr>\n",
       "      <th>max</th>\n",
       "      <td>28.000000</td>\n",
       "      <td>100000.000000</td>\n",
       "      <td>28.500000</td>\n",
       "      <td>67.00000</td>\n",
       "    </tr>\n",
       "  </tbody>\n",
       "</table>\n",
       "</div>"
      ],
      "text/plain": [
       "             Debt         Income  YearsEmployed  CreditScore\n",
       "count  690.000000     690.000000     690.000000    690.00000\n",
       "mean     4.758725    1017.385507       2.223406      2.40000\n",
       "std      4.978163    5210.102598       3.346513      4.86294\n",
       "min      0.000000       0.000000       0.000000      0.00000\n",
       "25%      1.000000       0.000000       0.165000      0.00000\n",
       "50%      2.750000       5.000000       1.000000      0.00000\n",
       "75%      7.207500     395.500000       2.625000      3.00000\n",
       "max     28.000000  100000.000000      28.500000     67.00000"
      ]
     },
     "execution_count": 8,
     "metadata": {},
     "output_type": "execute_result"
    }
   ],
   "source": [
    "ccData.describe()"
   ]
  },
  {
   "cell_type": "code",
   "execution_count": 9,
   "metadata": {},
   "outputs": [],
   "source": [
    "y = pd.DataFrame(ccData['Approved_Status'])\n",
    "X = pd.DataFrame(ccData.drop('Approved_Status',axis=1))\n",
    "y = y.squeeze()"
   ]
  },
  {
   "cell_type": "code",
   "execution_count": 10,
   "metadata": {},
   "outputs": [
    {
     "name": "stdout",
     "output_type": "stream",
     "text": [
      "X_train: (483, 4)\n",
      "X_test: (207, 4)\n",
      "y_train: (483,)\n",
      "y_test: (207,)\n"
     ]
    }
   ],
   "source": [
    "[X_train, X_test, y_train, y_test] = train_test_split_func(X,y,0.3)"
   ]
  },
  {
   "cell_type": "code",
   "execution_count": 11,
   "metadata": {},
   "outputs": [
    {
     "name": "stdout",
     "output_type": "stream",
     "text": [
      "Train Accuracy: 0.772256728778468\n",
      " Test Accuracy: 0.7632850241545893\n"
     ]
    }
   ],
   "source": [
    "model = LogisticRegression()\n",
    "y_train_pred,y_test_pred = logistic_regression(model,X_train,X_test,y_train,y_test)"
   ]
  },
  {
   "cell_type": "code",
   "execution_count": 12,
   "metadata": {},
   "outputs": [
    {
     "name": "stdout",
     "output_type": "stream",
     "text": [
      "TPR Test :\t 0.9101123595505618\n",
      "TNR Test :\t 0.6018518518518519\n",
      "\n",
      "FPR Test :\t 0.39814814814814814\n",
      "FNR Test :\t 0.0898876404494382\n",
      "\n",
      "Precision: 0.8442\n",
      "Recall: 0.6019\n",
      "F-score: 0.7027\n"
     ]
    },
    {
     "data": {
      "image/png": "[encoded data removed]",
      "text/plain": [
       "<Figure size 432x288 with 2 Axes>"
      ]
     },
     "metadata": {},
     "output_type": "display_data"
    }
   ],
   "source": [
    "confusion_matrix_func(y_train,y_train_pred)"
   ]
  },
  {
   "cell_type": "code",
   "execution_count": 13,
   "metadata": {},
   "outputs": [
    {
     "name": "stdout",
     "output_type": "stream",
     "text": [
      "TPR Test :\t 0.853448275862069\n",
      "TNR Test :\t 0.6483516483516484\n",
      "\n",
      "FPR Test :\t 0.3516483516483517\n",
      "FNR Test :\t 0.14655172413793102\n",
      "\n",
      "Precision: 0.7763\n",
      "Recall: 0.6484\n",
      "F-score: 0.7066\n"
     ]
    },
    {
     "data": {
      "image/png": "[encoded data removed]",
      "text/plain": [
       "<Figure size 432x288 with 2 Axes>"
      ]
     },
     "metadata": {},
     "output_type": "display_data"
    }
   ],
   "source": [
    "confusion_matrix_func(y_test,y_test_pred)"
   ]
  },
  {
   "cell_type": "code",
   "execution_count": 14,
   "metadata": {},
   "outputs": [],
   "source": [
    "# y = pd.DataFrame(ccData['Approved_Status'])\n",
    "# X = pd.DataFrame(ccData.drop(['Approved_Status','Income','Debt','YearsEmployed'],axis=1))\n",
    "# y = y.squeeze()"
   ]
  },
  {
   "cell_type": "code",
   "execution_count": 15,
   "metadata": {},
   "outputs": [],
   "source": [
    "# [X_train,X_test,y_train,y_test] = train_test_split_func(X,y,0.2)"
   ]
  },
  {
   "cell_type": "code",
   "execution_count": 16,
   "metadata": {},
   "outputs": [],
   "source": [
    "# y_train_pred,y_test_pred = logistic_regression(X_train,X_test,y_train,y_test)"
   ]
  },
  {
   "cell_type": "code",
   "execution_count": 17,
   "metadata": {},
   "outputs": [],
   "source": [
    "# confusion_matrix_func(y_test,y_test_pred)"
   ]
  },
  {
   "cell_type": "markdown",
   "metadata": {},
   "source": [
    "# Scaled "
   ]
  },
  {
   "cell_type": "code",
   "execution_count": 24,
   "metadata": {},
   "outputs": [],
   "source": [
    "from sklearn.preprocessing import StandardScaler\n",
    "scaler = StandardScaler()"
   ]
  },
  {
   "cell_type": "code",
   "execution_count": 25,
   "metadata": {},
   "outputs": [],
   "source": [
    "X_train_scaled = scaler.fit_transform(X_train)\n",
    "X_test_scaled = scaler.fit_transform(X_test)"
   ]
  },
  {
   "cell_type": "code",
   "execution_count": 26,
   "metadata": {},
   "outputs": [
    {
     "data": {
      "text/plain": [
       "array([[ 0.27265711, -0.14587045, -0.6581097 , -0.27113385],\n",
       "       [-0.87750345, -0.0402543 , -0.60804263,  0.69463053],\n",
       "       [-0.34811176, -0.18808431,  0.06639024, -0.07798097],\n",
       "       ...,\n",
       "       [-0.36499667,  0.08296455,  3.41646618, -0.07798097],\n",
       "       [-0.46431969, -0.19476681,  1.39169501, -0.46428673],\n",
       "       [-0.66296573, -0.19427785, -0.0072378 , -0.27113385]])"
      ]
     },
     "execution_count": 26,
     "metadata": {},
     "output_type": "execute_result"
    }
   ],
   "source": [
    "X_train_scaled"
   ]
  },
  {
   "cell_type": "code",
   "execution_count": 27,
   "metadata": {},
   "outputs": [
    {
     "name": "stdout",
     "output_type": "stream",
     "text": [
      "Train Accuracy: 0.7681159420289855\n",
      " Test Accuracy: 0.7584541062801933\n"
     ]
    }
   ],
   "source": [
    "model = LogisticRegression()\n",
    "y_train_pred,y_test_pred =  logistic_regression(model,X_train_scaled,X_test_scaled,y_train,y_test)"
   ]
  },
  {
   "cell_type": "code",
   "execution_count": 28,
   "metadata": {},
   "outputs": [
    {
     "name": "stdout",
     "output_type": "stream",
     "text": [
      "TPR Test :\t 0.9101123595505618\n",
      "TNR Test :\t 0.5925925925925926\n",
      "\n",
      "FPR Test :\t 0.4074074074074074\n",
      "FNR Test :\t 0.0898876404494382\n",
      "\n",
      "Precision: 0.8421\n",
      "Recall: 0.5926\n",
      "F-score: 0.6957\n"
     ]
    },
    {
     "data": {
      "image/png": "[encoded data removed]",
      "text/plain": [
       "<Figure size 432x288 with 2 Axes>"
      ]
     },
     "metadata": {},
     "output_type": "display_data"
    }
   ],
   "source": [
    "confusion_matrix_func(y_train,y_train_pred)"
   ]
  },
  {
   "cell_type": "code",
   "execution_count": 23,
   "metadata": {},
   "outputs": [
    {
     "name": "stdout",
     "output_type": "stream",
     "text": [
      "TPR Test :\t 0.8620689655172413\n",
      "TNR Test :\t 0.6263736263736264\n",
      "\n",
      "FPR Test :\t 0.37362637362637363\n",
      "FNR Test :\t 0.13793103448275862\n",
      "\n",
      "Precision: 0.7808\n",
      "Recall: 0.6264\n",
      "F-score: 0.6951\n"
     ]
    },
    {
     "data": {
      "image/png": "[encoded data removed]",
      "text/plain": [
       "<Figure size 432x288 with 2 Axes>"
      ]
     },
     "metadata": {},
     "output_type": "display_data"
    }
   ],
   "source": [
    "confusion_matrix_func(y_test,y_test_pred)"
   ]
  },
  {
   "cell_type": "code",
   "execution_count": null,
   "metadata": {},
   "outputs": [],
   "source": []
  },
  {
   "cell_type": "code",
   "execution_count": null,
   "metadata": {},
   "outputs": [],
   "source": []
  }
 ],
 "metadata": {
  "kernelspec": {
   "display_name": "Python 3 (ipykernel)",
   "language": "python",
   "name": "python3"
  },
  "language_info": {
   "codemirror_mode": {
    "name": "ipython",
    "version": 3
   },
   "file_extension": ".py",
   "mimetype": "text/x-python",
   "name": "python",
   "nbconvert_exporter": "python",
   "pygments_lexer": "ipython3",
   "version": "3.9.12"
  }
 },
 "nbformat": 4,
 "nbformat_minor": 2
}
