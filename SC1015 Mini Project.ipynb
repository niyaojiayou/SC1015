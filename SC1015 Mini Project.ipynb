{
 "cells": [
  {
   "cell_type": "markdown",
   "id": "073895ea",
   "metadata": {},
   "source": [
    "## SC1015 Mini Assignment 2/4/2023\n",
    "\n",
    "To do:\n",
    "- Complete EDA for all variables (William)\n",
    "- First multi-variate training (Ying Xi / Monday)\n",
    "- Second multi-variate training (Andrew / Wednesday)"
   ]
  },
  {
   "cell_type": "markdown",
   "id": "b7fd2b1a",
   "metadata": {},
   "source": [
    "#### Import Essential Libraries"
   ]
  },
  {
   "cell_type": "code",
   "execution_count": 1,
   "id": "1b7b1b7e",
   "metadata": {},
   "outputs": [],
   "source": [
    "import numpy as np\n",
    "import pandas as pd\n",
    "import matplotlib.pyplot as plt\n",
    "import seaborn as sb\n",
    "sb.set()\n",
    "\n",
    "from sklearn.linear_model import LinearRegression\n",
    "from sklearn.model_selection import train_test_split\n",
    "from sklearn.metrics import mean_squared_error\n",
    "\n",
    "from sklearn.tree import DecisionTreeClassifier\n",
    "from sklearn.model_selection import train_test_split\n",
    "from sklearn.metrics import confusion_matrix\n",
    "from sklearn.tree import plot_tree"
   ]
  },
  {
   "cell_type": "markdown",
   "id": "a233ac22",
   "metadata": {},
   "source": [
    "#### Importing the DataSet\n"
   ]
  },
  {
   "cell_type": "code",
   "execution_count": 2,
   "id": "64605596",
   "metadata": {},
   "outputs": [
    {
     "data": {
      "text/html": [
       "<div>\n",
       "<style scoped>\n",
       "    .dataframe tbody tr th:only-of-type {\n",
       "        vertical-align: middle;\n",
       "    }\n",
       "\n",
       "    .dataframe tbody tr th {\n",
       "        vertical-align: top;\n",
       "    }\n",
       "\n",
       "    .dataframe thead th {\n",
       "        text-align: right;\n",
       "    }\n",
       "</style>\n",
       "<table border=\"1\" class=\"dataframe\">\n",
       "  <thead>\n",
       "    <tr style=\"text-align: right;\">\n",
       "      <th></th>\n",
       "      <th>Gender</th>\n",
       "      <th>Age</th>\n",
       "      <th>Debt</th>\n",
       "      <th>Married</th>\n",
       "      <th>BankCustomer</th>\n",
       "      <th>EducationLevel</th>\n",
       "      <th>Ethnicity</th>\n",
       "      <th>YearsEmployed</th>\n",
       "      <th>PriorDefault</th>\n",
       "      <th>Employed</th>\n",
       "      <th>CreditScore</th>\n",
       "      <th>DriversLicense</th>\n",
       "      <th>Citizen</th>\n",
       "      <th>ZipCode</th>\n",
       "      <th>Income</th>\n",
       "      <th>Approved</th>\n",
       "      <th>Approved_Status</th>\n",
       "    </tr>\n",
       "  </thead>\n",
       "  <tbody>\n",
       "    <tr>\n",
       "      <th>0</th>\n",
       "      <td>b</td>\n",
       "      <td>30.83</td>\n",
       "      <td>0.000</td>\n",
       "      <td>u</td>\n",
       "      <td>g</td>\n",
       "      <td>w</td>\n",
       "      <td>v</td>\n",
       "      <td>1.25</td>\n",
       "      <td>t</td>\n",
       "      <td>t</td>\n",
       "      <td>1</td>\n",
       "      <td>f</td>\n",
       "      <td>g</td>\n",
       "      <td>202.0</td>\n",
       "      <td>0</td>\n",
       "      <td>+</td>\n",
       "      <td>Approved</td>\n",
       "    </tr>\n",
       "    <tr>\n",
       "      <th>1</th>\n",
       "      <td>a</td>\n",
       "      <td>58.67</td>\n",
       "      <td>4.460</td>\n",
       "      <td>u</td>\n",
       "      <td>g</td>\n",
       "      <td>q</td>\n",
       "      <td>h</td>\n",
       "      <td>3.04</td>\n",
       "      <td>t</td>\n",
       "      <td>t</td>\n",
       "      <td>6</td>\n",
       "      <td>f</td>\n",
       "      <td>g</td>\n",
       "      <td>43.0</td>\n",
       "      <td>560</td>\n",
       "      <td>+</td>\n",
       "      <td>Approved</td>\n",
       "    </tr>\n",
       "    <tr>\n",
       "      <th>2</th>\n",
       "      <td>a</td>\n",
       "      <td>24.50</td>\n",
       "      <td>0.500</td>\n",
       "      <td>u</td>\n",
       "      <td>g</td>\n",
       "      <td>q</td>\n",
       "      <td>h</td>\n",
       "      <td>1.50</td>\n",
       "      <td>t</td>\n",
       "      <td>f</td>\n",
       "      <td>0</td>\n",
       "      <td>f</td>\n",
       "      <td>g</td>\n",
       "      <td>280.0</td>\n",
       "      <td>824</td>\n",
       "      <td>+</td>\n",
       "      <td>Approved</td>\n",
       "    </tr>\n",
       "    <tr>\n",
       "      <th>3</th>\n",
       "      <td>b</td>\n",
       "      <td>27.83</td>\n",
       "      <td>1.540</td>\n",
       "      <td>u</td>\n",
       "      <td>g</td>\n",
       "      <td>w</td>\n",
       "      <td>v</td>\n",
       "      <td>3.75</td>\n",
       "      <td>t</td>\n",
       "      <td>t</td>\n",
       "      <td>5</td>\n",
       "      <td>t</td>\n",
       "      <td>g</td>\n",
       "      <td>100.0</td>\n",
       "      <td>3</td>\n",
       "      <td>+</td>\n",
       "      <td>Approved</td>\n",
       "    </tr>\n",
       "    <tr>\n",
       "      <th>4</th>\n",
       "      <td>b</td>\n",
       "      <td>20.17</td>\n",
       "      <td>5.625</td>\n",
       "      <td>u</td>\n",
       "      <td>g</td>\n",
       "      <td>w</td>\n",
       "      <td>v</td>\n",
       "      <td>1.71</td>\n",
       "      <td>t</td>\n",
       "      <td>f</td>\n",
       "      <td>0</td>\n",
       "      <td>f</td>\n",
       "      <td>s</td>\n",
       "      <td>120.0</td>\n",
       "      <td>0</td>\n",
       "      <td>+</td>\n",
       "      <td>Approved</td>\n",
       "    </tr>\n",
       "  </tbody>\n",
       "</table>\n",
       "</div>"
      ],
      "text/plain": [
       "  Gender    Age   Debt Married BankCustomer EducationLevel Ethnicity  \\\n",
       "0      b  30.83  0.000       u            g              w         v   \n",
       "1      a  58.67  4.460       u            g              q         h   \n",
       "2      a  24.50  0.500       u            g              q         h   \n",
       "3      b  27.83  1.540       u            g              w         v   \n",
       "4      b  20.17  5.625       u            g              w         v   \n",
       "\n",
       "   YearsEmployed PriorDefault Employed  CreditScore DriversLicense Citizen  \\\n",
       "0           1.25            t        t            1              f       g   \n",
       "1           3.04            t        t            6              f       g   \n",
       "2           1.50            t        f            0              f       g   \n",
       "3           3.75            t        t            5              t       g   \n",
       "4           1.71            t        f            0              f       s   \n",
       "\n",
       "   ZipCode  Income Approved Approved_Status  \n",
       "0    202.0       0        +        Approved  \n",
       "1     43.0     560        +        Approved  \n",
       "2    280.0     824        +        Approved  \n",
       "3    100.0       3        +        Approved  \n",
       "4    120.0       0        +        Approved  "
      ]
     },
     "execution_count": 2,
     "metadata": {},
     "output_type": "execute_result"
    }
   ],
   "source": [
    "creditcardData=pd.read_csv(\"credit-approval_csv.csv\")\n",
    "creditcardData.head()"
   ]
  },
  {
   "cell_type": "code",
   "execution_count": 3,
   "id": "d9c48fab",
   "metadata": {},
   "outputs": [
    {
     "name": "stdout",
     "output_type": "stream",
     "text": [
      "<class 'pandas.core.frame.DataFrame'>\n",
      "RangeIndex: 690 entries, 0 to 689\n",
      "Data columns (total 17 columns):\n",
      " #   Column           Non-Null Count  Dtype  \n",
      "---  ------           --------------  -----  \n",
      " 0   Gender           678 non-null    object \n",
      " 1   Age              678 non-null    float64\n",
      " 2   Debt             690 non-null    float64\n",
      " 3   Married          684 non-null    object \n",
      " 4   BankCustomer     684 non-null    object \n",
      " 5   EducationLevel   681 non-null    object \n",
      " 6   Ethnicity        681 non-null    object \n",
      " 7   YearsEmployed    690 non-null    float64\n",
      " 8   PriorDefault     690 non-null    object \n",
      " 9   Employed         690 non-null    object \n",
      " 10  CreditScore      690 non-null    int64  \n",
      " 11  DriversLicense   690 non-null    object \n",
      " 12  Citizen          690 non-null    object \n",
      " 13  ZipCode          677 non-null    float64\n",
      " 14  Income           690 non-null    int64  \n",
      " 15  Approved         690 non-null    object \n",
      " 16  Approved_Status  690 non-null    object \n",
      "dtypes: float64(4), int64(2), object(11)\n",
      "memory usage: 91.8+ KB\n"
     ]
    }
   ],
   "source": [
    "creditcardData.info()"
   ]
  },
  {
   "attachments": {},
   "cell_type": "markdown",
   "id": "66a1e75a",
   "metadata": {},
   "source": [
    "#### Observations\n",
    "1. Approved_Status is the response variable\n",
    "There are `17` variables and `690` observations in the dataset.    \n",
    "2.  Approved_Status is the response variable, while the remaining 15 (We've excluded Approved) are likely predictors\n",
    "3. There are `2` variables identified as `int64` by default, and it seems they are all Numeric with the exception of `CreditScore - Categorical`.\n",
    "4. There are `4` variables identified as `float64` by default, and it seems they are indeed Numeric.     \n",
    "5. There are `9` variables identified as `object` by default, and they are most likely Categorical (Excluding `Approved`) \n",
    "\n",
    "6. There are some NULL values in the dataset, we need to explore more on those predictors to decide:\n",
    "- To drop all the NULL values   OR\n",
    "- fill the NULL values with median or mode"
   ]
  },
  {
   "cell_type": "code",
   "execution_count": 4,
   "id": "31204ed2",
   "metadata": {},
   "outputs": [
    {
     "data": {
      "text/plain": [
       "<seaborn.axisgrid.FacetGrid at 0x21bb42685e0>"
      ]
     },
     "execution_count": 4,
     "metadata": {},
     "output_type": "execute_result"
    },
    {
     "data": {
      "image/png": "[encoded data removed]",
      "text/plain": [
       "<Figure size 500x500 with 1 Axes>"
      ]
     },
     "metadata": {},
     "output_type": "display_data"
    }
   ],
   "source": [
    "sb.catplot(y=\"Approved_Status\",data=creditcardData,kind=\"count\")"
   ]
  },
  {
   "cell_type": "code",
   "execution_count": 5,
   "id": "5817dd82",
   "metadata": {},
   "outputs": [
    {
     "name": "stdout",
     "output_type": "stream",
     "text": [
      "Ratio of Approved:Not_Approved= 307 : 383\n",
      "Approved percentage: 44.49 %\n"
     ]
    }
   ],
   "source": [
    "No_notapproved,No_approved=creditcardData[\"Approved_Status\"].value_counts()\n",
    "print(\"Ratio of Approved:Not_Approved=\",No_approved,\":\",No_notapproved)\n",
    "print(\"Approved percentage: {0:.2f} %\".format((No_approved/(No_notapproved+No_approved))*100))"
   ]
  },
  {
   "cell_type": "markdown",
   "id": "61b712cd",
   "metadata": {},
   "source": [
    "We see that the percentage of approved credit card is  44.49%, which is slightly less than 50%. We need more information to predict the approval of a credit card, if not its just like a naive guess."
   ]
  },
  {
   "cell_type": "markdown",
   "id": "87e479fe",
   "metadata": {},
   "source": [
    "---"
   ]
  },
  {
   "cell_type": "markdown",
   "id": "307940d1",
   "metadata": {},
   "source": [
    "### Exploring the Numerical Predictors"
   ]
  },
  {
   "cell_type": "code",
   "execution_count": 6,
   "id": "73dda246",
   "metadata": {},
   "outputs": [
    {
     "data": {
      "text/html": [
       "<div>\n",
       "<style scoped>\n",
       "    .dataframe tbody tr th:only-of-type {\n",
       "        vertical-align: middle;\n",
       "    }\n",
       "\n",
       "    .dataframe tbody tr th {\n",
       "        vertical-align: top;\n",
       "    }\n",
       "\n",
       "    .dataframe thead th {\n",
       "        text-align: right;\n",
       "    }\n",
       "</style>\n",
       "<table border=\"1\" class=\"dataframe\">\n",
       "  <thead>\n",
       "    <tr style=\"text-align: right;\">\n",
       "      <th></th>\n",
       "      <th>Age</th>\n",
       "      <th>Debt</th>\n",
       "      <th>YearsEmployed</th>\n",
       "      <th>CreditScore</th>\n",
       "      <th>ZipCode</th>\n",
       "      <th>Income</th>\n",
       "    </tr>\n",
       "  </thead>\n",
       "  <tbody>\n",
       "    <tr>\n",
       "      <th>count</th>\n",
       "      <td>678.000000</td>\n",
       "      <td>690.000000</td>\n",
       "      <td>690.000000</td>\n",
       "      <td>690.00000</td>\n",
       "      <td>677.000000</td>\n",
       "      <td>690.000000</td>\n",
       "    </tr>\n",
       "    <tr>\n",
       "      <th>mean</th>\n",
       "      <td>31.568171</td>\n",
       "      <td>4.758725</td>\n",
       "      <td>2.223406</td>\n",
       "      <td>2.40000</td>\n",
       "      <td>184.014771</td>\n",
       "      <td>1017.385507</td>\n",
       "    </tr>\n",
       "    <tr>\n",
       "      <th>std</th>\n",
       "      <td>11.957862</td>\n",
       "      <td>4.978163</td>\n",
       "      <td>3.346513</td>\n",
       "      <td>4.86294</td>\n",
       "      <td>173.806768</td>\n",
       "      <td>5210.102598</td>\n",
       "    </tr>\n",
       "    <tr>\n",
       "      <th>min</th>\n",
       "      <td>13.750000</td>\n",
       "      <td>0.000000</td>\n",
       "      <td>0.000000</td>\n",
       "      <td>0.00000</td>\n",
       "      <td>0.000000</td>\n",
       "      <td>0.000000</td>\n",
       "    </tr>\n",
       "    <tr>\n",
       "      <th>25%</th>\n",
       "      <td>22.602500</td>\n",
       "      <td>1.000000</td>\n",
       "      <td>0.165000</td>\n",
       "      <td>0.00000</td>\n",
       "      <td>75.000000</td>\n",
       "      <td>0.000000</td>\n",
       "    </tr>\n",
       "    <tr>\n",
       "      <th>50%</th>\n",
       "      <td>28.460000</td>\n",
       "      <td>2.750000</td>\n",
       "      <td>1.000000</td>\n",
       "      <td>0.00000</td>\n",
       "      <td>160.000000</td>\n",
       "      <td>5.000000</td>\n",
       "    </tr>\n",
       "    <tr>\n",
       "      <th>75%</th>\n",
       "      <td>38.230000</td>\n",
       "      <td>7.207500</td>\n",
       "      <td>2.625000</td>\n",
       "      <td>3.00000</td>\n",
       "      <td>276.000000</td>\n",
       "      <td>395.500000</td>\n",
       "    </tr>\n",
       "    <tr>\n",
       "      <th>max</th>\n",
       "      <td>80.250000</td>\n",
       "      <td>28.000000</td>\n",
       "      <td>28.500000</td>\n",
       "      <td>67.00000</td>\n",
       "      <td>2000.000000</td>\n",
       "      <td>100000.000000</td>\n",
       "    </tr>\n",
       "  </tbody>\n",
       "</table>\n",
       "</div>"
      ],
      "text/plain": [
       "              Age        Debt  YearsEmployed  CreditScore      ZipCode  \\\n",
       "count  678.000000  690.000000     690.000000    690.00000   677.000000   \n",
       "mean    31.568171    4.758725       2.223406      2.40000   184.014771   \n",
       "std     11.957862    4.978163       3.346513      4.86294   173.806768   \n",
       "min     13.750000    0.000000       0.000000      0.00000     0.000000   \n",
       "25%     22.602500    1.000000       0.165000      0.00000    75.000000   \n",
       "50%     28.460000    2.750000       1.000000      0.00000   160.000000   \n",
       "75%     38.230000    7.207500       2.625000      3.00000   276.000000   \n",
       "max     80.250000   28.000000      28.500000     67.00000  2000.000000   \n",
       "\n",
       "              Income  \n",
       "count     690.000000  \n",
       "mean     1017.385507  \n",
       "std      5210.102598  \n",
       "min         0.000000  \n",
       "25%         0.000000  \n",
       "50%         5.000000  \n",
       "75%       395.500000  \n",
       "max    100000.000000  "
      ]
     },
     "execution_count": 6,
     "metadata": {},
     "output_type": "execute_result"
    }
   ],
   "source": [
    "creditcardData.describe()"
   ]
  },
  {
   "cell_type": "markdown",
   "id": "6c07d61a",
   "metadata": {},
   "source": [
    "Exploration of response variable `Debt`"
   ]
  },
  {
   "cell_type": "code",
   "execution_count": 7,
   "id": "84c164f3",
   "metadata": {},
   "outputs": [
    {
     "data": {
      "text/plain": [
       "<AxesSubplot:>"
      ]
     },
     "execution_count": 7,
     "metadata": {},
     "output_type": "execute_result"
    }
   ],
   "source": [
    "f, axes = plt.subplots(3, 1, figsize=(24, 24))\n",
    "sb.boxplot(data = creditcardData['Debt'], orient = \"h\", ax = axes[0])\n",
    "sb.histplot(data = creditcardData['Debt'], ax = axes[1])\n",
    "sb.violinplot(data = creditcardData['Debt'], orient = \"h\", ax = axes[2])"
   ]
  },
  {
   "cell_type": "code",
   "execution_count": 8,
   "id": "53e333bb",
   "metadata": {},
   "outputs": [
    {
     "name": "stderr",
     "output_type": "stream",
     "text": [
      "c:\\Users\\zhixi\\anaconda3\\lib\\site-packages\\seaborn\\categorical.py:1296: UserWarning: 9.9% of the points cannot be placed; you may want to decrease the size of the markers or use stripplot.\n",
      "  warnings.warn(msg, UserWarning)\n"
     ]
    },
    {
     "data": {
      "text/plain": [
       "<AxesSubplot:xlabel='Debt', ylabel='Approved_Status'>"
      ]
     },
     "execution_count": 8,
     "metadata": {},
     "output_type": "execute_result"
    }
   ],
   "source": [
    "f,axes=plt.subplots(2,1,figsize=(16,8))\n",
    "sb.stripplot(x = 'Debt', y = 'Approved_Status', data = creditcardData, ax=axes[0])\n",
    "sb.swarmplot(data=creditcardData,x=\"Debt\",y=\"Approved_Status\",ax=axes[1])"
   ]
  },
  {
   "cell_type": "markdown",
   "id": "4aca4bf4",
   "metadata": {},
   "source": [
    "Exploration of variable `YearsEmployed`"
   ]
  },
  {
   "cell_type": "code",
   "execution_count": 9,
   "id": "b7906d90",
   "metadata": {},
   "outputs": [
    {
     "data": {
      "text/plain": [
       "<AxesSubplot:>"
      ]
     },
     "execution_count": 9,
     "metadata": {},
     "output_type": "execute_result"
    }
   ],
   "source": [
    "# Plot basic uni-variate figures\n",
    "f, axes = plt.subplots(3, 1, figsize=(24, 24))\n",
    "sb.boxplot(data = creditcardData['YearsEmployed'], orient = \"h\", ax = axes[0])\n",
    "sb.histplot(data = creditcardData['YearsEmployed'], ax = axes[1])\n",
    "sb.violinplot(data = creditcardData['YearsEmployed'], orient = \"h\", ax = axes[2])"
   ]
  },
  {
   "cell_type": "code",
   "execution_count": 10,
   "id": "d767b8c4",
   "metadata": {},
   "outputs": [
    {
     "name": "stderr",
     "output_type": "stream",
     "text": [
      "c:\\Users\\zhixi\\anaconda3\\lib\\site-packages\\seaborn\\categorical.py:1296: UserWarning: 10.4% of the points cannot be placed; you may want to decrease the size of the markers or use stripplot.\n",
      "  warnings.warn(msg, UserWarning)\n",
      "c:\\Users\\zhixi\\anaconda3\\lib\\site-packages\\seaborn\\categorical.py:1296: UserWarning: 47.0% of the points cannot be placed; you may want to decrease the size of the markers or use stripplot.\n",
      "  warnings.warn(msg, UserWarning)\n"
     ]
    },
    {
     "data": {
      "text/plain": [
       "<AxesSubplot:xlabel='YearsEmployed', ylabel='Approved_Status'>"
      ]
     },
     "execution_count": 10,
     "metadata": {},
     "output_type": "execute_result"
    }
   ],
   "source": [
    "f,axes=plt.subplots(2,1,figsize=(16,8))\n",
    "sb.stripplot(x = 'YearsEmployed', y = 'Approved_Status', data = creditcardData, ax=axes[0])\n",
    "sb.swarmplot(data=creditcardData,x=\"YearsEmployed\",y=\"Approved_Status\",ax=axes[1])"
   ]
  },
  {
   "cell_type": "markdown",
   "id": "b2d596b7",
   "metadata": {},
   "source": [
    "Exploration of variable `Age`"
   ]
  },
  {
   "cell_type": "code",
   "execution_count": 11,
   "id": "63cc796c",
   "metadata": {
    "scrolled": true
   },
   "outputs": [
    {
     "data": {
      "text/plain": [
       "<AxesSubplot:>"
      ]
     },
     "execution_count": 11,
     "metadata": {},
     "output_type": "execute_result"
    }
   ],
   "source": [
    "f, axes = plt.subplots(3, 1, figsize=(24, 24))\n",
    "sb.boxplot(data = creditcardData['Age'], orient = \"h\", ax = axes[0])\n",
    "sb.histplot(data = creditcardData['Age'], ax = axes[1])\n",
    "sb.violinplot(data = creditcardData['Age'], orient = \"h\", ax = axes[2])"
   ]
  },
  {
   "cell_type": "code",
   "execution_count": 12,
   "id": "a5d550c1",
   "metadata": {},
   "outputs": [
    {
     "data": {
      "text/plain": [
       "<AxesSubplot:xlabel='Age', ylabel='Approved_Status'>"
      ]
     },
     "execution_count": 12,
     "metadata": {},
     "output_type": "execute_result"
    }
   ],
   "source": [
    "f,axes=plt.subplots(2,1,figsize=(16,8))\n",
    "sb.stripplot(x = 'Age', y = 'Approved_Status', data = creditcardData, ax=axes[0])\n",
    "sb.swarmplot(data=creditcardData,x=\"Age\",y=\"Approved_Status\",ax=axes[1])"
   ]
  },
  {
   "attachments": {},
   "cell_type": "markdown",
   "id": "f9cf98f8",
   "metadata": {},
   "source": [
    "Exploration of variable `CreditScore`"
   ]
  },
  {
   "cell_type": "code",
   "execution_count": 13,
   "id": "319b8219",
   "metadata": {},
   "outputs": [
    {
     "data": {
      "text/plain": [
       "<AxesSubplot:>"
      ]
     },
     "execution_count": 13,
     "metadata": {},
     "output_type": "execute_result"
    }
   ],
   "source": [
    "f, axes = plt.subplots(3, 1, figsize=(24, 24))\n",
    "sb.boxplot(data = creditcardData['CreditScore'],orient = \"h\", ax = axes[0])\n",
    "sb.histplot(data = creditcardData['CreditScore'], ax = axes[1])\n",
    "sb.violinplot(data = creditcardData['CreditScore'], orient = \"h\", ax = axes[2])"
   ]
  },
  {
   "attachments": {},
   "cell_type": "markdown",
   "id": "83388b4c",
   "metadata": {},
   "source": [
    "As you can see, CreditScore Seems to have Outiers that are very far off"
   ]
  },
  {
   "cell_type": "code",
   "execution_count": 14,
   "id": "24593f84",
   "metadata": {},
   "outputs": [
    {
     "name": "stderr",
     "output_type": "stream",
     "text": [
      "c:\\Users\\zhixi\\anaconda3\\lib\\site-packages\\seaborn\\categorical.py:1296: UserWarning: 21.8% of the points cannot be placed; you may want to decrease the size of the markers or use stripplot.\n",
      "  warnings.warn(msg, UserWarning)\n",
      "c:\\Users\\zhixi\\anaconda3\\lib\\site-packages\\seaborn\\categorical.py:1296: UserWarning: 69.7% of the points cannot be placed; you may want to decrease the size of the markers or use stripplot.\n",
      "  warnings.warn(msg, UserWarning)\n"
     ]
    },
    {
     "data": {
      "text/plain": [
       "<AxesSubplot:xlabel='CreditScore', ylabel='Approved_Status'>"
      ]
     },
     "execution_count": 14,
     "metadata": {},
     "output_type": "execute_result"
    }
   ],
   "source": [
    "f = plt.figure(figsize=(16, 8))\n",
    "sb.swarmplot(data=creditcardData,x=\"CreditScore\",y=\"Approved_Status\")"
   ]
  },
  {
   "cell_type": "code",
   "execution_count": 15,
   "id": "9f1b4199",
   "metadata": {},
   "outputs": [
    {
     "data": {
      "text/plain": [
       "<AxesSubplot:xlabel='CreditScore', ylabel='Approved_Status'>"
      ]
     },
     "execution_count": 15,
     "metadata": {},
     "output_type": "execute_result"
    }
   ],
   "source": [
    "f = plt.figure(figsize=(16, 8))\n",
    "sb.stripplot(x = 'CreditScore', y = 'Approved_Status', data = creditcardData)\n"
   ]
  },
  {
   "cell_type": "markdown",
   "id": "d6ec4e61",
   "metadata": {},
   "source": [
    "### Exploring the Categorical Predictors"
   ]
  },
  {
   "cell_type": "code",
   "execution_count": 16,
   "id": "12859e78",
   "metadata": {},
   "outputs": [
    {
     "data": {
      "text/html": [
       "<div>\n",
       "<style scoped>\n",
       "    .dataframe tbody tr th:only-of-type {\n",
       "        vertical-align: middle;\n",
       "    }\n",
       "\n",
       "    .dataframe tbody tr th {\n",
       "        vertical-align: top;\n",
       "    }\n",
       "\n",
       "    .dataframe thead th {\n",
       "        text-align: right;\n",
       "    }\n",
       "</style>\n",
       "<table border=\"1\" class=\"dataframe\">\n",
       "  <thead>\n",
       "    <tr style=\"text-align: right;\">\n",
       "      <th></th>\n",
       "      <th>Gender</th>\n",
       "      <th>Married</th>\n",
       "      <th>BankCustomer</th>\n",
       "      <th>EducationLevel</th>\n",
       "      <th>Ethnicity</th>\n",
       "      <th>PriorDefault</th>\n",
       "      <th>Employed</th>\n",
       "      <th>DriversLicense</th>\n",
       "      <th>Citizen</th>\n",
       "      <th>Approved</th>\n",
       "      <th>Approved_Status</th>\n",
       "    </tr>\n",
       "  </thead>\n",
       "  <tbody>\n",
       "    <tr>\n",
       "      <th>count</th>\n",
       "      <td>678</td>\n",
       "      <td>684</td>\n",
       "      <td>684</td>\n",
       "      <td>681</td>\n",
       "      <td>681</td>\n",
       "      <td>690</td>\n",
       "      <td>690</td>\n",
       "      <td>690</td>\n",
       "      <td>690</td>\n",
       "      <td>690</td>\n",
       "      <td>690</td>\n",
       "    </tr>\n",
       "    <tr>\n",
       "      <th>unique</th>\n",
       "      <td>2</td>\n",
       "      <td>3</td>\n",
       "      <td>3</td>\n",
       "      <td>14</td>\n",
       "      <td>9</td>\n",
       "      <td>2</td>\n",
       "      <td>2</td>\n",
       "      <td>2</td>\n",
       "      <td>3</td>\n",
       "      <td>2</td>\n",
       "      <td>2</td>\n",
       "    </tr>\n",
       "    <tr>\n",
       "      <th>top</th>\n",
       "      <td>b</td>\n",
       "      <td>u</td>\n",
       "      <td>g</td>\n",
       "      <td>c</td>\n",
       "      <td>v</td>\n",
       "      <td>t</td>\n",
       "      <td>f</td>\n",
       "      <td>f</td>\n",
       "      <td>g</td>\n",
       "      <td>-</td>\n",
       "      <td>Not Approved</td>\n",
       "    </tr>\n",
       "    <tr>\n",
       "      <th>freq</th>\n",
       "      <td>468</td>\n",
       "      <td>519</td>\n",
       "      <td>519</td>\n",
       "      <td>137</td>\n",
       "      <td>399</td>\n",
       "      <td>361</td>\n",
       "      <td>395</td>\n",
       "      <td>374</td>\n",
       "      <td>625</td>\n",
       "      <td>383</td>\n",
       "      <td>383</td>\n",
       "    </tr>\n",
       "  </tbody>\n",
       "</table>\n",
       "</div>"
      ],
      "text/plain": [
       "       Gender Married BankCustomer EducationLevel Ethnicity PriorDefault  \\\n",
       "count     678     684          684            681       681          690   \n",
       "unique      2       3            3             14         9            2   \n",
       "top         b       u            g              c         v            t   \n",
       "freq      468     519          519            137       399          361   \n",
       "\n",
       "       Employed DriversLicense Citizen Approved Approved_Status  \n",
       "count       690            690     690      690             690  \n",
       "unique        2              2       3        2               2  \n",
       "top           f              f       g        -    Not Approved  \n",
       "freq        395            374     625      383             383  "
      ]
     },
     "execution_count": 16,
     "metadata": {},
     "output_type": "execute_result"
    }
   ],
   "source": [
    "creditcardDataStr = creditcardData.loc[:, creditcardData.dtypes == object]\n",
    "creditcardDataStr.describe()"
   ]
  },
  {
   "cell_type": "code",
   "execution_count": 17,
   "id": "a07b47a8",
   "metadata": {},
   "outputs": [
    {
     "data": {
      "text/plain": [
       "u    519\n",
       "y    163\n",
       "l      2\n",
       "Name: Married, dtype: int64"
      ]
     },
     "execution_count": 17,
     "metadata": {},
     "output_type": "execute_result"
    }
   ],
   "source": [
    "creditcardData[\"Married\"].value_counts()"
   ]
  },
  {
   "cell_type": "code",
   "execution_count": 18,
   "id": "5613bc52",
   "metadata": {},
   "outputs": [
    {
     "data": {
      "text/plain": [
       "g    625\n",
       "s     57\n",
       "p      8\n",
       "Name: Citizen, dtype: int64"
      ]
     },
     "execution_count": 18,
     "metadata": {},
     "output_type": "execute_result"
    }
   ],
   "source": [
    "creditcardData[\"Citizen\"].value_counts()"
   ]
  },
  {
   "cell_type": "code",
   "execution_count": 19,
   "id": "e2eaf00f",
   "metadata": {},
   "outputs": [
    {
     "name": "stdout",
     "output_type": "stream",
     "text": [
      "Discovering the values of EducationLevel\n"
     ]
    },
    {
     "data": {
      "text/plain": [
       "c     137\n",
       "q      78\n",
       "w      64\n",
       "i      59\n",
       "aa     54\n",
       "ff     53\n",
       "k      51\n",
       "cc     41\n",
       "m      38\n",
       "x      38\n",
       "d      30\n",
       "e      25\n",
       "j      10\n",
       "r       3\n",
       "Name: EducationLevel, dtype: int64"
      ]
     },
     "execution_count": 19,
     "metadata": {},
     "output_type": "execute_result"
    }
   ],
   "source": [
    "print(\"Discovering the values of EducationLevel\")\n",
    "creditcardData[\"EducationLevel\"].value_counts()"
   ]
  },
  {
   "cell_type": "code",
   "execution_count": 20,
   "id": "f4dbed94",
   "metadata": {},
   "outputs": [
    {
     "name": "stdout",
     "output_type": "stream",
     "text": [
      "Discovering the values of Ethnicity\n"
     ]
    },
    {
     "data": {
      "text/plain": [
       "v     399\n",
       "h     138\n",
       "bb     59\n",
       "ff     57\n",
       "j       8\n",
       "z       8\n",
       "dd      6\n",
       "n       4\n",
       "o       2\n",
       "Name: Ethnicity, dtype: int64"
      ]
     },
     "execution_count": 20,
     "metadata": {},
     "output_type": "execute_result"
    }
   ],
   "source": [
    "print(\"Discovering the values of Ethnicity\")\n",
    "creditcardData[\"Ethnicity\"].value_counts()"
   ]
  },
  {
   "cell_type": "markdown",
   "id": "581dce32",
   "metadata": {},
   "source": [
    "Variables \"EducationLevel\" and \"Ethnicity\" have too many ambiguous value. After checking the dataset source, we knew that most of the people do not want to disclose these info as they are confidential. Therefore, we will drop this variables out of our predictors.\n"
   ]
  },
  {
   "cell_type": "markdown",
   "id": "049f006b",
   "metadata": {},
   "source": [
    "---"
   ]
  },
  {
   "cell_type": "code",
   "execution_count": 21,
   "id": "d6ce47bc",
   "metadata": {},
   "outputs": [
    {
     "data": {
      "text/html": [
       "<div>\n",
       "<style scoped>\n",
       "    .dataframe tbody tr th:only-of-type {\n",
       "        vertical-align: middle;\n",
       "    }\n",
       "\n",
       "    .dataframe tbody tr th {\n",
       "        vertical-align: top;\n",
       "    }\n",
       "\n",
       "    .dataframe thead th {\n",
       "        text-align: right;\n",
       "    }\n",
       "</style>\n",
       "<table border=\"1\" class=\"dataframe\">\n",
       "  <thead>\n",
       "    <tr style=\"text-align: right;\">\n",
       "      <th></th>\n",
       "      <th>Gender</th>\n",
       "      <th>Age</th>\n",
       "      <th>Debt</th>\n",
       "      <th>Married</th>\n",
       "      <th>BankCustomer</th>\n",
       "      <th>YearsEmployed</th>\n",
       "      <th>PriorDefault</th>\n",
       "      <th>Employed</th>\n",
       "      <th>CreditScore</th>\n",
       "      <th>DriversLicense</th>\n",
       "      <th>Citizen</th>\n",
       "      <th>ZipCode</th>\n",
       "      <th>Income</th>\n",
       "      <th>Approved</th>\n",
       "      <th>Approved_Status</th>\n",
       "    </tr>\n",
       "  </thead>\n",
       "  <tbody>\n",
       "    <tr>\n",
       "      <th>0</th>\n",
       "      <td>b</td>\n",
       "      <td>30.83</td>\n",
       "      <td>0.000</td>\n",
       "      <td>u</td>\n",
       "      <td>g</td>\n",
       "      <td>1.25</td>\n",
       "      <td>t</td>\n",
       "      <td>t</td>\n",
       "      <td>1</td>\n",
       "      <td>f</td>\n",
       "      <td>g</td>\n",
       "      <td>202.0</td>\n",
       "      <td>0</td>\n",
       "      <td>+</td>\n",
       "      <td>Approved</td>\n",
       "    </tr>\n",
       "    <tr>\n",
       "      <th>1</th>\n",
       "      <td>a</td>\n",
       "      <td>58.67</td>\n",
       "      <td>4.460</td>\n",
       "      <td>u</td>\n",
       "      <td>g</td>\n",
       "      <td>3.04</td>\n",
       "      <td>t</td>\n",
       "      <td>t</td>\n",
       "      <td>6</td>\n",
       "      <td>f</td>\n",
       "      <td>g</td>\n",
       "      <td>43.0</td>\n",
       "      <td>560</td>\n",
       "      <td>+</td>\n",
       "      <td>Approved</td>\n",
       "    </tr>\n",
       "    <tr>\n",
       "      <th>2</th>\n",
       "      <td>a</td>\n",
       "      <td>24.50</td>\n",
       "      <td>0.500</td>\n",
       "      <td>u</td>\n",
       "      <td>g</td>\n",
       "      <td>1.50</td>\n",
       "      <td>t</td>\n",
       "      <td>f</td>\n",
       "      <td>0</td>\n",
       "      <td>f</td>\n",
       "      <td>g</td>\n",
       "      <td>280.0</td>\n",
       "      <td>824</td>\n",
       "      <td>+</td>\n",
       "      <td>Approved</td>\n",
       "    </tr>\n",
       "    <tr>\n",
       "      <th>3</th>\n",
       "      <td>b</td>\n",
       "      <td>27.83</td>\n",
       "      <td>1.540</td>\n",
       "      <td>u</td>\n",
       "      <td>g</td>\n",
       "      <td>3.75</td>\n",
       "      <td>t</td>\n",
       "      <td>t</td>\n",
       "      <td>5</td>\n",
       "      <td>t</td>\n",
       "      <td>g</td>\n",
       "      <td>100.0</td>\n",
       "      <td>3</td>\n",
       "      <td>+</td>\n",
       "      <td>Approved</td>\n",
       "    </tr>\n",
       "    <tr>\n",
       "      <th>4</th>\n",
       "      <td>b</td>\n",
       "      <td>20.17</td>\n",
       "      <td>5.625</td>\n",
       "      <td>u</td>\n",
       "      <td>g</td>\n",
       "      <td>1.71</td>\n",
       "      <td>t</td>\n",
       "      <td>f</td>\n",
       "      <td>0</td>\n",
       "      <td>f</td>\n",
       "      <td>s</td>\n",
       "      <td>120.0</td>\n",
       "      <td>0</td>\n",
       "      <td>+</td>\n",
       "      <td>Approved</td>\n",
       "    </tr>\n",
       "  </tbody>\n",
       "</table>\n",
       "</div>"
      ],
      "text/plain": [
       "  Gender    Age   Debt Married BankCustomer  YearsEmployed PriorDefault  \\\n",
       "0      b  30.83  0.000       u            g           1.25            t   \n",
       "1      a  58.67  4.460       u            g           3.04            t   \n",
       "2      a  24.50  0.500       u            g           1.50            t   \n",
       "3      b  27.83  1.540       u            g           3.75            t   \n",
       "4      b  20.17  5.625       u            g           1.71            t   \n",
       "\n",
       "  Employed  CreditScore DriversLicense Citizen  ZipCode  Income Approved  \\\n",
       "0        t            1              f       g    202.0       0        +   \n",
       "1        t            6              f       g     43.0     560        +   \n",
       "2        f            0              f       g    280.0     824        +   \n",
       "3        t            5              t       g    100.0       3        +   \n",
       "4        f            0              f       s    120.0       0        +   \n",
       "\n",
       "  Approved_Status  \n",
       "0        Approved  \n",
       "1        Approved  \n",
       "2        Approved  \n",
       "3        Approved  \n",
       "4        Approved  "
      ]
     },
     "execution_count": 21,
     "metadata": {},
     "output_type": "execute_result"
    }
   ],
   "source": [
    "# Drop EducationalLevel and Ethnicity\n",
    "todrop=[\"EducationLevel\",\"Ethnicity\"]\n",
    "ccData=creditcardData.drop(columns=todrop)\n",
    "ccData.head()"
   ]
  },
  {
   "cell_type": "code",
   "execution_count": 22,
   "id": "b12f34bd",
   "metadata": {},
   "outputs": [],
   "source": [
    "# # Drop Null Values\n",
    "# ccData.dropna(inplace=True)\n",
    "# ccData.info()"
   ]
  },
  {
   "cell_type": "code",
   "execution_count": 23,
   "id": "b3dc0e7f",
   "metadata": {},
   "outputs": [],
   "source": [
    "# print(\"After dropping all the ambiguous / NULL values in the dataset, {0:.2f}% of data dropped\".format(((690-654)/690)*100))"
   ]
  },
  {
   "attachments": {},
   "cell_type": "markdown",
   "id": "b523f891",
   "metadata": {},
   "source": [
    "Relationship between Gender and Approval Status"
   ]
  },
  {
   "cell_type": "code",
   "execution_count": 24,
   "id": "da00279e",
   "metadata": {},
   "outputs": [
    {
     "data": {
      "text/plain": [
       "<AxesSubplot:xlabel='Approved_Status', ylabel='Gender'>"
      ]
     },
     "execution_count": 24,
     "metadata": {},
     "output_type": "execute_result"
    }
   ],
   "source": [
    "sb.heatmap(ccData.groupby(['Gender','Approved_Status']).size().unstack(),\n",
    "    linewidths = 1, annot = True, fmt = 'g', annot_kws = {'size':18}, cmap = 'OrRd')"
   ]
  },
  {
   "attachments": {},
   "cell_type": "markdown",
   "id": "ad3f7e36",
   "metadata": {},
   "source": [
    "Relationship between Married and Approval Status"
   ]
  },
  {
   "cell_type": "code",
   "execution_count": 25,
   "id": "4efe6cf0",
   "metadata": {},
   "outputs": [
    {
     "data": {
      "text/plain": [
       "<AxesSubplot:xlabel='Approved_Status', ylabel='Married'>"
      ]
     },
     "execution_count": 25,
     "metadata": {},
     "output_type": "execute_result"
    }
   ],
   "source": [
    "sb.heatmap(creditcardDataStr.groupby(['Married','Approved_Status']).size().unstack(),\n",
    "    linewidths = 1, annot = True, fmt = 'g', annot_kws = {'size':18}, cmap = 'OrRd')"
   ]
  },
  {
   "attachments": {},
   "cell_type": "markdown",
   "id": "3a083941",
   "metadata": {},
   "source": [
    "Relationship between Drivers License and Approval Status"
   ]
  },
  {
   "cell_type": "code",
   "execution_count": 26,
   "id": "83a66640",
   "metadata": {},
   "outputs": [
    {
     "data": {
      "text/plain": [
       "<AxesSubplot:xlabel='Approved_Status', ylabel='DriversLicense'>"
      ]
     },
     "execution_count": 26,
     "metadata": {},
     "output_type": "execute_result"
    }
   ],
   "source": [
    "sb.heatmap(creditcardDataStr.groupby(['DriversLicense','Approved_Status']).size().unstack(),\n",
    "    linewidths = 1, annot = True, fmt = 'g', annot_kws = {'size':18}, cmap = 'OrRd')"
   ]
  },
  {
   "attachments": {},
   "cell_type": "markdown",
   "id": "a67363f8",
   "metadata": {},
   "source": [
    "Relationship between Citizen and Approval Status"
   ]
  },
  {
   "cell_type": "code",
   "execution_count": 27,
   "id": "7cc2ec30",
   "metadata": {},
   "outputs": [
    {
     "data": {
      "text/plain": [
       "<AxesSubplot:xlabel='Citizen', ylabel='Approved_Status'>"
      ]
     },
     "execution_count": 27,
     "metadata": {},
     "output_type": "execute_result"
    }
   ],
   "source": [
    "sb.heatmap(creditcardDataStr.groupby(['Approved_Status','Citizen']).size().unstack(),\n",
    "    linewidths = 1, annot = True, fmt = 'g', annot_kws = {'size':18}, cmap = 'OrRd')"
   ]
  },
  {
   "attachments": {},
   "cell_type": "markdown",
   "id": "c953dd14",
   "metadata": {},
   "source": [
    "Relationship between CreditScore and Approval Status - Not sure if I should consider this as Numerical or categorical"
   ]
  },
  {
   "cell_type": "code",
   "execution_count": 28,
   "id": "0caa2307",
   "metadata": {},
   "outputs": [
    {
     "data": {
      "text/plain": [
       "<AxesSubplot:xlabel='Approved_Status', ylabel='CreditScore'>"
      ]
     },
     "execution_count": 28,
     "metadata": {},
     "output_type": "execute_result"
    }
   ],
   "source": [
    "f = plt.figure(figsize=(15,20))\n",
    "sb.heatmap(ccData.groupby(['CreditScore','Approved_Status']).size().unstack(),\n",
    "    linewidths = 1, annot = True, fmt = 'g', annot_kws = {'size':18}, cmap = 'OrRd')"
   ]
  },
  {
   "attachments": {},
   "cell_type": "markdown",
   "id": "a43cd2a3",
   "metadata": {},
   "source": [
    "Relationship between PriorDefault and Approval Status"
   ]
  },
  {
   "cell_type": "code",
   "execution_count": 29,
   "id": "c5b4da36",
   "metadata": {},
   "outputs": [
    {
     "data": {
      "text/plain": [
       "<AxesSubplot:xlabel='Approved_Status', ylabel='PriorDefault'>"
      ]
     },
     "execution_count": 29,
     "metadata": {},
     "output_type": "execute_result"
    }
   ],
   "source": [
    "sb.heatmap(ccData.groupby(['PriorDefault','Approved_Status']).size().unstack(),\n",
    "    linewidths = 1, annot = True, fmt = 'g', annot_kws = {'size':18}, cmap = 'OrRd')"
   ]
  },
  {
   "attachments": {},
   "cell_type": "markdown",
   "id": "2dec91b1",
   "metadata": {},
   "source": [
    "Relationship between Employed and Approval Status"
   ]
  },
  {
   "cell_type": "code",
   "execution_count": 30,
   "id": "e9d642d3",
   "metadata": {},
   "outputs": [
    {
     "data": {
      "text/plain": [
       "<AxesSubplot:xlabel='Approved_Status', ylabel='Employed'>"
      ]
     },
     "execution_count": 30,
     "metadata": {},
     "output_type": "execute_result"
    }
   ],
   "source": [
    "sb.heatmap(ccData.groupby(['Employed','Approved_Status']).size().unstack(),\n",
    "    linewidths = 1, annot = True, fmt = 'g', annot_kws = {'size':18}, cmap = 'OrRd')"
   ]
  },
  {
   "cell_type": "markdown",
   "id": "46137d57",
   "metadata": {},
   "source": [
    "---"
   ]
  },
  {
   "cell_type": "markdown",
   "id": "44c0ecd6",
   "metadata": {},
   "source": [
    "# !! U guys can watch the project discussion lecture and i think we think to do model training using individual variable to get better insight."
   ]
  },
  {
   "cell_type": "markdown",
   "id": "ecddc2b2",
   "metadata": {},
   "source": [
    "## Need to redo model training (ALL VARIABLES)"
   ]
  },
  {
   "cell_type": "code",
   "execution_count": 31,
   "id": "340cc1d4",
   "metadata": {},
   "outputs": [
    {
     "name": "stdout",
     "output_type": "stream",
     "text": [
      "<class 'pandas.core.frame.DataFrame'>\n",
      "RangeIndex: 690 entries, 0 to 689\n",
      "Data columns (total 18 columns):\n",
      " #   Column            Non-Null Count  Dtype  \n",
      "---  ------            --------------  -----  \n",
      " 0   Gender_a          690 non-null    float64\n",
      " 1   Gender_b          690 non-null    float64\n",
      " 2   Gender_nan        690 non-null    float64\n",
      " 3   Married_l         690 non-null    float64\n",
      " 4   Married_u         690 non-null    float64\n",
      " 5   Married_y         690 non-null    float64\n",
      " 6   Married_nan       690 non-null    float64\n",
      " 7   Employed_f        690 non-null    float64\n",
      " 8   Employed_t        690 non-null    float64\n",
      " 9   DriversLicense_f  690 non-null    float64\n",
      " 10  DriversLicense_t  690 non-null    float64\n",
      " 11  PriorDefault_f    690 non-null    float64\n",
      " 12  PriorDefault_t    690 non-null    float64\n",
      " 13  DriversLicense_f  690 non-null    float64\n",
      " 14  DriversLicense_t  690 non-null    float64\n",
      " 15  Citizen_g         690 non-null    float64\n",
      " 16  Citizen_p         690 non-null    float64\n",
      " 17  Citizen_s         690 non-null    float64\n",
      "dtypes: float64(18)\n",
      "memory usage: 97.2 KB\n"
     ]
    }
   ],
   "source": [
    "from sklearn.preprocessing import OneHotEncoder\n",
    "ohe = OneHotEncoder()\n",
    "\n",
    "# OneHotEncoding of categorical predictors (not the response)\n",
    "ccData_cat =ccData[['Gender','Married','Employed','DriversLicense','PriorDefault','DriversLicense','Citizen']]\n",
    "ohe.fit(ccData_cat)\n",
    "ccData_cat_ohe = pd.DataFrame(ohe.transform(ccData_cat).toarray(), \n",
    "                                  columns=ohe.get_feature_names_out(ccData_cat.columns))\n",
    "\n",
    "# Check the encoded variables\n",
    "ccData_cat_ohe.info()"
   ]
  },
  {
   "cell_type": "code",
   "execution_count": 32,
   "id": "1fa4f399",
   "metadata": {},
   "outputs": [
    {
     "name": "stdout",
     "output_type": "stream",
     "text": [
      "<class 'pandas.core.frame.DataFrame'>\n",
      "Int64Index: 678 entries, 0 to 689\n",
      "Data columns (total 23 columns):\n",
      " #   Column            Non-Null Count  Dtype  \n",
      "---  ------            --------------  -----  \n",
      " 0   Age               678 non-null    float64\n",
      " 1   YearsEmployed     678 non-null    float64\n",
      " 2   Income            678 non-null    int64  \n",
      " 3   Debt              678 non-null    float64\n",
      " 4   Gender_a          678 non-null    float64\n",
      " 5   Gender_b          678 non-null    float64\n",
      " 6   Gender_nan        678 non-null    float64\n",
      " 7   Married_l         678 non-null    float64\n",
      " 8   Married_u         678 non-null    float64\n",
      " 9   Married_y         678 non-null    float64\n",
      " 10  Married_nan       678 non-null    float64\n",
      " 11  Employed_f        678 non-null    float64\n",
      " 12  Employed_t        678 non-null    float64\n",
      " 13  DriversLicense_f  678 non-null    float64\n",
      " 14  DriversLicense_t  678 non-null    float64\n",
      " 15  PriorDefault_f    678 non-null    float64\n",
      " 16  PriorDefault_t    678 non-null    float64\n",
      " 17  DriversLicense_f  678 non-null    float64\n",
      " 18  DriversLicense_t  678 non-null    float64\n",
      " 19  Citizen_g         678 non-null    float64\n",
      " 20  Citizen_p         678 non-null    float64\n",
      " 21  Citizen_s         678 non-null    float64\n",
      " 22  Approved_Status   678 non-null    object \n",
      "dtypes: float64(21), int64(1), object(1)\n",
      "memory usage: 127.1+ KB\n"
     ]
    }
   ],
   "source": [
    "# Combining Numeric features with the OHE Categorical features\n",
    "ccData_num = ccData[['Age','YearsEmployed','Income','Debt']]\n",
    "ccData_res = ccData['Approved_Status']\n",
    "ccData_ohe = pd.concat([ccData_num, ccData_cat_ohe, ccData_res], \n",
    "                           sort = False, axis = 1).reindex(ccData_num.index)\n",
    "\n",
    "# Check the final dataframe\n",
    "ccData_ohe.dropna(inplace=True)\n",
    "ccData_ohe.info()"
   ]
  },
  {
   "cell_type": "code",
   "execution_count": 33,
   "id": "747251a6",
   "metadata": {},
   "outputs": [
    {
     "data": {
      "text/plain": [
       "[Text(0.53125, 0.9166666666666666, 'PriorDefault_t <= 0.5\\ngini = 0.49\\nsamples = 474\\nvalue = [204, 270]\\nclass = Y'),\n",
       " Text(0.2784090909090909, 0.75, 'Debt <= 0.168\\ngini = 0.127\\nsamples = 234\\nvalue = [16, 218]\\nclass = Y'),\n",
       " Text(0.17045454545454544, 0.5833333333333334, 'Age <= 22.585\\ngini = 0.463\\nsamples = 22\\nvalue = [8, 14]\\nclass = Y'),\n",
       " Text(0.09090909090909091, 0.4166666666666667, 'Age <= 16.21\\ngini = 0.26\\nsamples = 13\\nvalue = [2, 11]\\nclass = Y'),\n",
       " Text(0.045454545454545456, 0.25, 'YearsEmployed <= 0.52\\ngini = 0.5\\nsamples = 2\\nvalue = [1, 1]\\nclass = N'),\n",
       " Text(0.022727272727272728, 0.08333333333333333, 'gini = 0.0\\nsamples = 1\\nvalue = [1, 0]\\nclass = N'),\n",
       " Text(0.06818181818181818, 0.08333333333333333, 'gini = 0.0\\nsamples = 1\\nvalue = [0, 1]\\nclass = Y'),\n",
       " Text(0.13636363636363635, 0.25, 'Income <= 20.5\\ngini = 0.165\\nsamples = 11\\nvalue = [1, 10]\\nclass = Y'),\n",
       " Text(0.11363636363636363, 0.08333333333333333, 'gini = 0.0\\nsamples = 8\\nvalue = [0, 8]\\nclass = Y'),\n",
       " Text(0.1590909090909091, 0.08333333333333333, 'gini = 0.444\\nsamples = 3\\nvalue = [1, 2]\\nclass = Y'),\n",
       " Text(0.25, 0.4166666666666667, 'Age <= 47.165\\ngini = 0.444\\nsamples = 9\\nvalue = [6, 3]\\nclass = N'),\n",
       " Text(0.22727272727272727, 0.25, 'Debt <= 0.02\\ngini = 0.375\\nsamples = 8\\nvalue = [6, 2]\\nclass = N'),\n",
       " Text(0.20454545454545456, 0.08333333333333333, 'gini = 0.48\\nsamples = 5\\nvalue = [3, 2]\\nclass = N'),\n",
       " Text(0.25, 0.08333333333333333, 'gini = 0.0\\nsamples = 3\\nvalue = [3, 0]\\nclass = N'),\n",
       " Text(0.2727272727272727, 0.25, 'gini = 0.0\\nsamples = 1\\nvalue = [0, 1]\\nclass = Y'),\n",
       " Text(0.38636363636363635, 0.5833333333333334, 'Married_l <= 0.5\\ngini = 0.073\\nsamples = 212\\nvalue = [8, 204]\\nclass = Y'),\n",
       " Text(0.36363636363636365, 0.4166666666666667, 'Age <= 33.625\\ngini = 0.064\\nsamples = 211\\nvalue = [7, 204]\\nclass = Y'),\n",
       " Text(0.3181818181818182, 0.25, 'YearsEmployed <= 1.375\\ngini = 0.026\\nsamples = 152\\nvalue = [2, 150]\\nclass = Y'),\n",
       " Text(0.29545454545454547, 0.08333333333333333, 'gini = 0.0\\nsamples = 118\\nvalue = [0, 118]\\nclass = Y'),\n",
       " Text(0.3409090909090909, 0.08333333333333333, 'gini = 0.111\\nsamples = 34\\nvalue = [2, 32]\\nclass = Y'),\n",
       " Text(0.4090909090909091, 0.25, 'Age <= 33.71\\ngini = 0.155\\nsamples = 59\\nvalue = [5, 54]\\nclass = Y'),\n",
       " Text(0.38636363636363635, 0.08333333333333333, 'gini = 0.0\\nsamples = 1\\nvalue = [1, 0]\\nclass = N'),\n",
       " Text(0.4318181818181818, 0.08333333333333333, 'gini = 0.128\\nsamples = 58\\nvalue = [4, 54]\\nclass = Y'),\n",
       " Text(0.4090909090909091, 0.4166666666666667, 'gini = 0.0\\nsamples = 1\\nvalue = [1, 0]\\nclass = N'),\n",
       " Text(0.7840909090909091, 0.75, 'Employed_f <= 0.5\\ngini = 0.339\\nsamples = 240\\nvalue = [188, 52]\\nclass = N'),\n",
       " Text(0.6363636363636364, 0.5833333333333334, 'Debt <= 1.332\\ngini = 0.168\\nsamples = 151\\nvalue = [137, 14]\\nclass = N'),\n",
       " Text(0.5454545454545454, 0.4166666666666667, 'Income <= 43.5\\ngini = 0.412\\nsamples = 31\\nvalue = [22, 9]\\nclass = N'),\n",
       " Text(0.5, 0.25, 'Debt <= 0.52\\ngini = 0.444\\nsamples = 9\\nvalue = [3, 6]\\nclass = Y'),\n",
       " Text(0.4772727272727273, 0.08333333333333333, 'gini = 0.0\\nsamples = 3\\nvalue = [3, 0]\\nclass = N'),\n",
       " Text(0.5227272727272727, 0.08333333333333333, 'gini = 0.0\\nsamples = 6\\nvalue = [0, 6]\\nclass = Y'),\n",
       " Text(0.5909090909090909, 0.25, 'Debt <= 1.145\\ngini = 0.236\\nsamples = 22\\nvalue = [19, 3]\\nclass = N'),\n",
       " Text(0.5681818181818182, 0.08333333333333333, 'gini = 0.172\\nsamples = 21\\nvalue = [19, 2]\\nclass = N'),\n",
       " Text(0.6136363636363636, 0.08333333333333333, 'gini = 0.0\\nsamples = 1\\nvalue = [0, 1]\\nclass = Y'),\n",
       " Text(0.7272727272727273, 0.4166666666666667, 'YearsEmployed <= 0.395\\ngini = 0.08\\nsamples = 120\\nvalue = [115, 5]\\nclass = N'),\n",
       " Text(0.6818181818181818, 0.25, 'Income <= 44.0\\ngini = 0.397\\nsamples = 11\\nvalue = [8, 3]\\nclass = N'),\n",
       " Text(0.6590909090909091, 0.08333333333333333, 'gini = 0.375\\nsamples = 4\\nvalue = [1, 3]\\nclass = Y'),\n",
       " Text(0.7045454545454546, 0.08333333333333333, 'gini = 0.0\\nsamples = 7\\nvalue = [7, 0]\\nclass = N'),\n",
       " Text(0.7727272727272727, 0.25, 'YearsEmployed <= 5.707\\ngini = 0.036\\nsamples = 109\\nvalue = [107, 2]\\nclass = N'),\n",
       " Text(0.75, 0.08333333333333333, 'gini = 0.0\\nsamples = 79\\nvalue = [79, 0]\\nclass = N'),\n",
       " Text(0.7954545454545454, 0.08333333333333333, 'gini = 0.124\\nsamples = 30\\nvalue = [28, 2]\\nclass = N'),\n",
       " Text(0.9318181818181818, 0.5833333333333334, 'Income <= 450.0\\ngini = 0.489\\nsamples = 89\\nvalue = [51, 38]\\nclass = N'),\n",
       " Text(0.9090909090909091, 0.4166666666666667, 'YearsEmployed <= 0.625\\ngini = 0.5\\nsamples = 76\\nvalue = [38, 38]\\nclass = N'),\n",
       " Text(0.8636363636363636, 0.25, 'Debt <= 2.125\\ngini = 0.428\\nsamples = 29\\nvalue = [9, 20]\\nclass = Y'),\n",
       " Text(0.8409090909090909, 0.08333333333333333, 'gini = 0.291\\nsamples = 17\\nvalue = [3, 14]\\nclass = Y'),\n",
       " Text(0.8863636363636364, 0.08333333333333333, 'gini = 0.5\\nsamples = 12\\nvalue = [6, 6]\\nclass = N'),\n",
       " Text(0.9545454545454546, 0.25, 'Age <= 24.455\\ngini = 0.473\\nsamples = 47\\nvalue = [29, 18]\\nclass = N'),\n",
       " Text(0.9318181818181818, 0.08333333333333333, 'gini = 0.305\\nsamples = 16\\nvalue = [13, 3]\\nclass = N'),\n",
       " Text(0.9772727272727273, 0.08333333333333333, 'gini = 0.499\\nsamples = 31\\nvalue = [16, 15]\\nclass = N'),\n",
       " Text(0.9545454545454546, 0.4166666666666667, 'gini = 0.0\\nsamples = 13\\nvalue = [13, 0]\\nclass = N')]"
      ]
     },
     "execution_count": 33,
     "metadata": {},
     "output_type": "execute_result"
    }
   ],
   "source": [
    "y = pd.DataFrame(ccData_ohe['Approved_Status'])\n",
    "X = pd.DataFrame(ccData_ohe.drop('Approved_Status', axis = 1))\n",
    "\n",
    "# Split the Dataset into Train and Test\n",
    "X_train, X_test, y_train, y_test = train_test_split(X, y, test_size = 0.3)\n",
    "\n",
    "# Decision Tree using Train Data\n",
    "dectree = DecisionTreeClassifier(max_depth = 5)  # change max_depth to experiment\n",
    "dectree.fit(X_train, y_train)                    # train the decision tree model\n",
    "\n",
    "# Plot the trained Decision Tree\n",
    "f = plt.figure(figsize=(24,24))\n",
    "plot_tree(dectree, filled=True, rounded=True, \n",
    "          feature_names=X_train.columns, \n",
    "          class_names=[\"N\",\"Y\"])"
   ]
  },
  {
   "cell_type": "code",
   "execution_count": 34,
   "id": "d1ed2e0a",
   "metadata": {},
   "outputs": [
    {
     "name": "stdout",
     "output_type": "stream",
     "text": [
      "Train Data\n",
      "Accuracy  :\t 0.9135021097046413\n",
      "\n",
      "TPR Train :\t 0.8888888888888888\n",
      "TNR Train :\t 0.946078431372549\n",
      "\n",
      "FPR Train :\t 0.05392156862745098\n",
      "FNR Train :\t 0.1111111111111111\n"
     ]
    },
    {
     "data": {
      "text/plain": [
       "<AxesSubplot:>"
      ]
     },
     "execution_count": 34,
     "metadata": {},
     "output_type": "execute_result"
    }
   ],
   "source": [
    "# Predict the Response corresponding to Predictors\n",
    "y_train_pred = dectree.predict(X_train)\n",
    "\n",
    "# Print the Classification Accuracy\n",
    "print(\"Train Data\")\n",
    "print(\"Accuracy  :\\t\", dectree.score(X_train, y_train))\n",
    "print()\n",
    "\n",
    "# Print the Accuracy Measures from the Confusion Matrix\n",
    "cmTrain = confusion_matrix(y_train, y_train_pred)\n",
    "tpTrain = cmTrain[1][1] # True Positives : Good (1) predicted Good (1)\n",
    "fpTrain = cmTrain[0][1] # False Positives : Bad (0) predicted Good (1)\n",
    "tnTrain = cmTrain[0][0] # True Negatives : Bad (0) predicted Bad (0)\n",
    "fnTrain = cmTrain[1][0] # False Negatives : Good (1) predicted Bad (0)\n",
    "\n",
    "print(\"TPR Train :\\t\", (tpTrain/(tpTrain + fnTrain)))\n",
    "print(\"TNR Train :\\t\", (tnTrain/(tnTrain + fpTrain)))\n",
    "print()\n",
    "\n",
    "print(\"FPR Train :\\t\", (fpTrain/(tnTrain + fpTrain)))\n",
    "print(\"FNR Train :\\t\", (fnTrain/(tpTrain + fnTrain)))\n",
    "\n",
    "# Plot the two-way Confusion Matrix\n",
    "sb.heatmap(confusion_matrix(y_train, y_train_pred), \n",
    "           annot = True, fmt=\".0f\", annot_kws={\"size\": 18})"
   ]
  },
  {
   "cell_type": "code",
   "execution_count": 35,
   "id": "38271d05",
   "metadata": {},
   "outputs": [
    {
     "name": "stdout",
     "output_type": "stream",
     "text": [
      "Test Data\n",
      "Accuracy  :\t 0.803921568627451\n",
      "\n",
      "TPR Test :\t 0.7669902912621359\n",
      "TNR Test :\t 0.8415841584158416\n",
      "\n",
      "FPR Test :\t 0.15841584158415842\n",
      "FNR Test :\t 0.23300970873786409\n"
     ]
    },
    {
     "data": {
      "text/plain": [
       "<AxesSubplot:>"
      ]
     },
     "execution_count": 35,
     "metadata": {},
     "output_type": "execute_result"
    }
   ],
   "source": [
    "# Import the required metric from sklearn\n",
    "from sklearn.metrics import confusion_matrix\n",
    "\n",
    "# Predict the Response corresponding to Predictors\n",
    "y_test_pred = dectree.predict(X_test)\n",
    "\n",
    "# Print the Classification Accuracy\n",
    "print(\"Test Data\")\n",
    "print(\"Accuracy  :\\t\", dectree.score(X_test, y_test))\n",
    "print()\n",
    "\n",
    "# Print the Accuracy Measures from the Confusion Matrix\n",
    "cmTest = confusion_matrix(y_test, y_test_pred)\n",
    "tpTest = cmTest[1][1] # True Positives : Good (1) predicted Good (1)\n",
    "fpTest = cmTest[0][1] # False Positives : Bad (0) predicted Good (1)\n",
    "tnTest = cmTest[0][0] # True Negatives : Bad (0) predicted Bad (0)\n",
    "fnTest = cmTest[1][0] # False Negatives : Good (1) predicted Bad (0)\n",
    "\n",
    "print(\"TPR Test :\\t\", (tpTest/(tpTest + fnTest)))\n",
    "print(\"TNR Test :\\t\", (tnTest/(tnTest + fpTest)))\n",
    "print()\n",
    "\n",
    "print(\"FPR Test :\\t\", (fpTest/(fpTest + tnTest)))\n",
    "print(\"FNR Test :\\t\", (fnTest/(fnTest + tpTest)))\n",
    "\n",
    "# Plot the two-way Confusion Matrix\n",
    "sb.heatmap(confusion_matrix(y_test, y_test_pred), \n",
    "           annot = True, fmt=\".0f\", annot_kws={\"size\": 18})"
   ]
  },
  {
   "attachments": {},
   "cell_type": "markdown",
   "id": "f5d936d6",
   "metadata": {},
   "source": [
    "## Training Model 2 (Resampling)"
   ]
  },
  {
   "cell_type": "code",
   "execution_count": 39,
   "id": "3d6ea6e1",
   "metadata": {},
   "outputs": [
    {
     "data": {
      "text/plain": [
       "Approved        305\n",
       "Not Approved    305\n",
       "Name: Approved_Status, dtype: int64"
      ]
     },
     "execution_count": 39,
     "metadata": {},
     "output_type": "execute_result"
    }
   ],
   "source": [
    "from sklearn.utils import resample\n",
    "\n",
    "Approved = ccData_ohe[ccData_ohe.Approved_Status == 'Approved']\n",
    "Not_Approved = ccData_ohe[ccData_ohe.Approved_Status == 'Not Approved']\n",
    " \n",
    "# Upsample the Bad samples\n",
    "Not_Approved_up = resample(Not_Approved, \n",
    "                        replace=True,                     # sample with replacement\n",
    "                        n_samples=Approved.shape[0])    # to match number of Good\n",
    " \n",
    "# Combine the two classes back after upsampling\n",
    "creditData_ohe_up = pd.concat([Approved, Not_Approved_up])\n",
    " \n",
    "# Check the ratio of the classes\n",
    "creditData_ohe_up['Approved_Status'].value_counts()"
   ]
  },
  {
   "cell_type": "code",
   "execution_count": 43,
   "id": "3a5afbf7",
   "metadata": {},
   "outputs": [
    {
     "data": {
      "text/plain": [
       "<seaborn.axisgrid.FacetGrid at 0x21bbde10460>"
      ]
     },
     "execution_count": 43,
     "metadata": {},
     "output_type": "execute_result"
    }
   ],
   "source": [
    "# Quick plot to check the balanced classes visually\n",
    "sb.catplot(y = 'Approved_Status', data = creditData_ohe_up, kind = \"count\")"
   ]
  },
  {
   "cell_type": "code",
   "execution_count": 44,
   "metadata": {},
   "outputs": [
    {
     "name": "stdout",
     "output_type": "stream",
     "text": [
      "<class 'pandas.core.frame.DataFrame'>\n",
      "Int64Index: 610 entries, 0 to 666\n",
      "Data columns (total 23 columns):\n",
      " #   Column            Non-Null Count  Dtype  \n",
      "---  ------            --------------  -----  \n",
      " 0   Age               610 non-null    float64\n",
      " 1   YearsEmployed     610 non-null    float64\n",
      " 2   Income            610 non-null    int64  \n",
      " 3   Debt              610 non-null    float64\n",
      " 4   Gender_a          610 non-null    float64\n",
      " 5   Gender_b          610 non-null    float64\n",
      " 6   Gender_nan        610 non-null    float64\n",
      " 7   Married_l         610 non-null    float64\n",
      " 8   Married_u         610 non-null    float64\n",
      " 9   Married_y         610 non-null    float64\n",
      " 10  Married_nan       610 non-null    float64\n",
      " 11  Employed_f        610 non-null    float64\n",
      " 12  Employed_t        610 non-null    float64\n",
      " 13  DriversLicense_f  610 non-null    float64\n",
      " 14  DriversLicense_t  610 non-null    float64\n",
      " 15  PriorDefault_f    610 non-null    float64\n",
      " 16  PriorDefault_t    610 non-null    float64\n",
      " 17  DriversLicense_f  610 non-null    float64\n",
      " 18  DriversLicense_t  610 non-null    float64\n",
      " 19  Citizen_g         610 non-null    float64\n",
      " 20  Citizen_p         610 non-null    float64\n",
      " 21  Citizen_s         610 non-null    float64\n",
      " 22  Approved_Status   610 non-null    object \n",
      "dtypes: float64(21), int64(1), object(1)\n",
      "memory usage: 114.4+ KB\n"
     ]
    }
   ],
   "source": [
    "# Confirm that the OHE is still in place\n",
    "# and that the samples have now increased\n",
    "creditData_ohe_up.info()"
   ]
  },
  {
   "cell_type": "code",
   "execution_count": 46,
   "id": "fff42888",
   "metadata": {},
   "outputs": [
    {
     "data": {
      "text/plain": [
       "[Text(0.54, 0.9, 'PriorDefault_f <= 0.5\\ngini = 0.5\\nsamples = 427\\nvalue = [215, 212]\\nclass = Approved'),\n",
       " Text(0.3, 0.7, 'Income <= 215.5\\ngini = 0.288\\nsamples = 235\\nvalue = [194, 41]\\nclass = Approved'),\n",
       " Text(0.16, 0.5, 'Married_y <= 0.5\\ngini = 0.433\\nsamples = 126\\nvalue = [86, 40]\\nclass = Approved'),\n",
       " Text(0.08, 0.3, 'Age <= 31.045\\ngini = 0.367\\nsamples = 95\\nvalue = [72, 23]\\nclass = Approved'),\n",
       " Text(0.04, 0.1, 'gini = 0.172\\nsamples = 42\\nvalue = [38, 4]\\nclass = Approved'),\n",
       " Text(0.12, 0.1, 'gini = 0.46\\nsamples = 53\\nvalue = [34, 19]\\nclass = Approved'),\n",
       " Text(0.24, 0.3, 'Employed_f <= 0.5\\ngini = 0.495\\nsamples = 31\\nvalue = [14, 17]\\nclass = Not_Approved'),\n",
       " Text(0.2, 0.1, 'gini = 0.426\\nsamples = 13\\nvalue = [9, 4]\\nclass = Approved'),\n",
       " Text(0.28, 0.1, 'gini = 0.401\\nsamples = 18\\nvalue = [5, 13]\\nclass = Not_Approved'),\n",
       " Text(0.44, 0.5, 'Age <= 18.585\\ngini = 0.018\\nsamples = 109\\nvalue = [108, 1]\\nclass = Approved'),\n",
       " Text(0.4, 0.3, 'Employed_f <= 0.5\\ngini = 0.375\\nsamples = 4\\nvalue = [3, 1]\\nclass = Approved'),\n",
       " Text(0.36, 0.1, 'gini = 0.0\\nsamples = 3\\nvalue = [3, 0]\\nclass = Approved'),\n",
       " Text(0.44, 0.1, 'gini = 0.0\\nsamples = 1\\nvalue = [0, 1]\\nclass = Not_Approved'),\n",
       " Text(0.48, 0.3, 'gini = 0.0\\nsamples = 105\\nvalue = [105, 0]\\nclass = Approved'),\n",
       " Text(0.78, 0.7, 'Debt <= 0.168\\ngini = 0.195\\nsamples = 192\\nvalue = [21, 171]\\nclass = Not_Approved'),\n",
       " Text(0.64, 0.5, 'Age <= 35.665\\ngini = 0.486\\nsamples = 24\\nvalue = [10, 14]\\nclass = Not_Approved'),\n",
       " Text(0.56, 0.3, 'YearsEmployed <= 1.625\\ngini = 0.432\\nsamples = 19\\nvalue = [6, 13]\\nclass = Not_Approved'),\n",
       " Text(0.52, 0.1, 'gini = 0.401\\nsamples = 18\\nvalue = [5, 13]\\nclass = Not_Approved'),\n",
       " Text(0.6, 0.1, 'gini = 0.0\\nsamples = 1\\nvalue = [1, 0]\\nclass = Approved'),\n",
       " Text(0.72, 0.3, 'Gender_b <= 0.5\\ngini = 0.32\\nsamples = 5\\nvalue = [4, 1]\\nclass = Approved'),\n",
       " Text(0.68, 0.1, 'gini = 0.5\\nsamples = 2\\nvalue = [1, 1]\\nclass = Approved'),\n",
       " Text(0.76, 0.1, 'gini = 0.0\\nsamples = 3\\nvalue = [3, 0]\\nclass = Approved'),\n",
       " Text(0.92, 0.5, 'Married_l <= 0.5\\ngini = 0.122\\nsamples = 168\\nvalue = [11, 157]\\nclass = Not_Approved'),\n",
       " Text(0.88, 0.3, 'YearsEmployed <= 1.375\\ngini = 0.103\\nsamples = 166\\nvalue = [9, 157]\\nclass = Not_Approved'),\n",
       " Text(0.84, 0.1, 'gini = 0.046\\nsamples = 126\\nvalue = [3, 123]\\nclass = Not_Approved'),\n",
       " Text(0.92, 0.1, 'gini = 0.255\\nsamples = 40\\nvalue = [6, 34]\\nclass = Not_Approved'),\n",
       " Text(0.96, 0.3, 'gini = 0.0\\nsamples = 2\\nvalue = [2, 0]\\nclass = Approved')]"
      ]
     },
     "execution_count": 46,
     "metadata": {},
     "output_type": "execute_result"
    }
   ],
   "source": [
    "# Extract Response and Predictors\n",
    "y = pd.DataFrame(creditData_ohe_up['Approved_Status'])\n",
    "X = pd.DataFrame(creditData_ohe_up.drop('Approved_Status', axis = 1))\n",
    "\n",
    "# Split the Dataset into Train and Test\n",
    "X_train, X_test, y_train, y_test = train_test_split(X, y, test_size = 0.3)\n",
    "\n",
    "# Decision Tree using Train Data\n",
    "dectree = DecisionTreeClassifier(max_depth = 4)  # change max_depth to experiment\n",
    "dectree.fit(X_train, y_train)                    # train the decision tree model\n",
    "\n",
    "# Plot the trained Decision Tree\n",
    "f = plt.figure(figsize=(24,24))\n",
    "plot_tree(dectree, filled=True, rounded=True, \n",
    "          feature_names=X_train.columns, \n",
    "          class_names=[\"Approved\",\"Not_Approved\"])"
   ]
  },
  {
   "cell_type": "code",
   "execution_count": 47,
   "id": "811eec25",
   "metadata": {},
   "outputs": [
    {
     "name": "stdout",
     "output_type": "stream",
     "text": [
      "Train Data\n",
      "Accuracy  :\t 0.8899297423887588\n",
      "\n",
      "TPR Train :\t 0.8679245283018868\n",
      "TNR Train :\t 0.9116279069767442\n",
      "\n",
      "FPR Train :\t 0.08837209302325581\n",
      "FNR Train :\t 0.1320754716981132\n"
     ]
    },
    {
     "data": {
      "text/plain": [
       "<AxesSubplot:>"
      ]
     },
     "execution_count": 47,
     "metadata": {},
     "output_type": "execute_result"
    }
   ],
   "source": [
    "# Predict the Response corresponding to Predictors\n",
    "y_train_pred = dectree.predict(X_train)\n",
    "\n",
    "# Print the Classification Accuracy\n",
    "print(\"Train Data\")\n",
    "print(\"Accuracy  :\\t\", dectree.score(X_train, y_train))\n",
    "print()\n",
    "\n",
    "# Print the Accuracy Measures from the Confusion Matrix\n",
    "cmTrain = confusion_matrix(y_train, y_train_pred)\n",
    "tpTrain = cmTrain[1][1] # True Positives : Good (1) predicted Good (1)\n",
    "fpTrain = cmTrain[0][1] # False Positives : Bad (0) predicted Good (1)\n",
    "tnTrain = cmTrain[0][0] # True Negatives : Bad (0) predicted Bad (0)\n",
    "fnTrain = cmTrain[1][0] # False Negatives : Good (1) predicted Bad (0)\n",
    "\n",
    "print(\"TPR Train :\\t\", (tpTrain/(tpTrain + fnTrain)))\n",
    "print(\"TNR Train :\\t\", (tnTrain/(tnTrain + fpTrain)))\n",
    "print()\n",
    "\n",
    "print(\"FPR Train :\\t\", (fpTrain/(tnTrain + fpTrain)))\n",
    "print(\"FNR Train :\\t\", (fnTrain/(tpTrain + fnTrain)))\n",
    "\n",
    "# Plot the two-way Confusion Matrix\n",
    "sb.heatmap(confusion_matrix(y_train, y_train_pred), \n",
    "           annot = True, fmt=\".0f\", annot_kws={\"size\": 18})"
   ]
  },
  {
   "cell_type": "code",
   "execution_count": 48,
   "id": "e2654377",
   "metadata": {},
   "outputs": [
    {
     "name": "stdout",
     "output_type": "stream",
     "text": [
      "Test Data\n",
      "Accuracy  :\t 0.9289617486338798\n",
      "\n",
      "TPR Test :\t 0.9032258064516129\n",
      "TNR Test :\t 0.9555555555555556\n",
      "\n",
      "FPR Test :\t 0.044444444444444446\n",
      "FNR Test :\t 0.0967741935483871\n"
     ]
    },
    {
     "data": {
      "text/plain": [
       "<AxesSubplot:>"
      ]
     },
     "execution_count": 48,
     "metadata": {},
     "output_type": "execute_result"
    }
   ],
   "source": [
    "# Predict the Response corresponding to Predictors\n",
    "y_test_pred = dectree.predict(X_test)\n",
    "\n",
    "# Print the Classification Accuracy\n",
    "print(\"Test Data\")\n",
    "print(\"Accuracy  :\\t\", dectree.score(X_test, y_test))\n",
    "print()\n",
    "\n",
    "# Print the Accuracy Measures from the Confusion Matrix\n",
    "cmTest = confusion_matrix(y_test, y_test_pred)\n",
    "tpTest = cmTest[1][1] # True Positives : Good (1) predicted Good (1)\n",
    "fpTest = cmTest[0][1] # False Positives : Bad (0) predicted Good (1)\n",
    "tnTest = cmTest[0][0] # True Negatives : Bad (0) predicted Bad (0)\n",
    "fnTest = cmTest[1][0] # False Negatives : Good (1) predicted Bad (0)\n",
    "\n",
    "print(\"TPR Test :\\t\", (tpTest/(tpTest + fnTest)))\n",
    "print(\"TNR Test :\\t\", (tnTest/(tnTest + fpTest)))\n",
    "print()\n",
    "\n",
    "print(\"FPR Test :\\t\", (fpTest/(fpTest + tnTest)))\n",
    "print(\"FNR Test :\\t\", (fnTest/(fnTest + tpTest)))\n",
    "\n",
    "# Plot the two-way Confusion Matrix\n",
    "sb.heatmap(confusion_matrix(y_test, y_test_pred), \n",
    "           annot = True, fmt=\".0f\", annot_kws={\"size\": 18})"
   ]
  },
  {
   "attachments": {},
   "cell_type": "markdown",
   "id": "7bd55390",
   "metadata": {},
   "source": [
    "#### After applying resampling test accuracy went up by ~2% ( but train accuracy went down ~ 2%?) while TPR and TNR increased significantly (train accuracy went down ~ 2%?)"
   ]
  },
  {
   "cell_type": "code",
   "execution_count": null,
   "id": "02c45ac2",
   "metadata": {},
   "outputs": [],
   "source": []
  }
 ],
 "metadata": {
  "kernelspec": {
   "display_name": "base",
   "language": "python",
   "name": "python3"
  },
  "language_info": {
   "codemirror_mode": {
    "name": "ipython",
    "version": 3
   },
   "file_extension": ".py",
   "mimetype": "text/x-python",
   "name": "python",
   "nbconvert_exporter": "python",
   "pygments_lexer": "ipython3",
   "version": "3.9.13"
  },
  "vscode": {
   "interpreter": {
    "hash": "3f56231212a954684e4455fc18e87f1d6f60ff89596aa855e6d309fe16c87e87"
   }
  }
 },
 "nbformat": 4,
 "nbformat_minor": 5
}
